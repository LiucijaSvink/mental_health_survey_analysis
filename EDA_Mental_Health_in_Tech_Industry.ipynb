{
  "nbformat": 4,
  "nbformat_minor": 0,
  "metadata": {
    "colab": {
      "provenance": [],
      "authorship_tag": "ABX9TyMwikt17R41j/4oJcXHRQg8",
      "include_colab_link": true
    },
    "kernelspec": {
      "name": "python3",
      "display_name": "Python 3"
    },
    "language_info": {
      "name": "python"
    }
  },
  "cells": [
    {
      "cell_type": "markdown",
      "metadata": {
        "id": "view-in-github",
        "colab_type": "text"
      },
      "source": [
        "<a href=\"https://colab.research.google.com/github/LiucijaSvink/mental_health_survey_analysis/blob/main/EDA_Mental_Health_in_Tech_Industry.ipynb\" target=\"_parent\"><img src=\"https://colab.research.google.com/assets/colab-badge.svg\" alt=\"Open In Colab\"/></a>"
      ]
    },
    {
      "cell_type": "markdown",
      "source": [
        "# Mental Health in the technology industry analysis"
      ],
      "metadata": {
        "id": "Cp48wAk_r-Bc"
      }
    },
    {
      "cell_type": "markdown",
      "source": [
        "## Introduction"
      ],
      "metadata": {
        "id": "g9BrNuHjrESk"
      }
    },
    {
      "cell_type": "markdown",
      "source": [
        "Mental health determines our capacity to handle stress, create relationships and make healthy decisions. Although the importance of mental health is acknowledged, a stigma surrounding mental illness topic also exists. In this notebook, we are going to explore Open Source Mental Illness survey data from [Kaggle](https://www.kaggle.com/anth7310/mental-health-in-the-tech-industry). The dataset description idenitifies that the survey measures the frequency of mental health disorders and the attitude towards the mental health of people working in tech.\n",
        "\n",
        "In this notebook, we aim to investigate the overall mental health status of the repondents of the survey and the interference of mental issues with their work. Furthermore, we will explore the attitudes of employers and employees towards mental health.  "
      ],
      "metadata": {
        "id": "ARtoFzbOsx4W"
      }
    },
    {
      "cell_type": "markdown",
      "source": [
        "## Preparation"
      ],
      "metadata": {
        "id": "e4C3u2Yxu7ze"
      }
    },
    {
      "cell_type": "markdown",
      "source": [
        "We will start with importing libraries necessary for the analysis. Note that the notebook requires **geopandas** installation to run smoothly."
      ],
      "metadata": {
        "id": "XLY34_ga7MyC"
      }
    },
    {
      "cell_type": "code",
      "execution_count": 35,
      "metadata": {
        "id": "Vjz1Khwlpm0H"
      },
      "outputs": [],
      "source": [
        "import numpy as np\n",
        "import pandas as pd\n",
        "import sqlite3 as sql\n",
        "\n",
        "import seaborn as sns\n",
        "import matplotlib.pyplot as plt\n",
        "%matplotlib inline\n",
        "\n",
        "import geopandas"
      ]
    },
    {
      "cell_type": "markdown",
      "source": [
        "Helper functions are also defined below."
      ],
      "metadata": {
        "id": "5am2x98olwR2"
      }
    },
    {
      "cell_type": "code",
      "source": [
        "def annotate_bars(bars):\n",
        "  '''Annotate horizontal graphs'''\n",
        "  for bar in bars.patches:\n",
        "    bars.annotate(\"%.0f\" % bar.get_width(),\n",
        "                  xy=(bar.get_width(),\n",
        "                  bar.get_y() + bar.get_height()/2),\n",
        "                  xytext=(5, 0),\n",
        "                  textcoords='offset points',\n",
        "                  ha=\"left\",\n",
        "                  va=\"center\")\n",
        "  return\n",
        "\n",
        "def show_nonzero(values):\n",
        "  return ('%.1f%%' % values) if values > 0.5 else ''"
      ],
      "metadata": {
        "id": "1R0b9_nz3RFW"
      },
      "execution_count": 36,
      "outputs": []
    },
    {
      "cell_type": "markdown",
      "source": [
        "## Loading data"
      ],
      "metadata": {
        "id": "4d6oH1Qb09CT"
      }
    },
    {
      "cell_type": "markdown",
      "source": [
        "The data at hand is a SLQLite database that contains 3 tables. Survey, Question, and Answer.\n",
        "\n",
        "* **Survey** (PRIMARY KEY INT SurveyID, TEXT Description)\n",
        "* **Question** (PRIMARY KEY QuestionID, TEXT QuestionText)\n",
        "* **Answer** (PRIMARY/FOREIGN KEY SurveyID, PRIMARY KEY UserID, PRIMARY/FOREIGN KEY QuestionID, TEXT AnswerText)\n",
        "\n",
        "We will load and inspect the data."
      ],
      "metadata": {
        "id": "LSIkNXWtPXfS"
      }
    },
    {
      "cell_type": "code",
      "source": [
        "connection = sql.connect(\"mental_health.sqlite\")\n",
        "survey_info = pd.read_sql(\"\"\"\n",
        "                          SELECT * \n",
        "                          FROM Survey\n",
        "                          \"\"\", connection)\n",
        "\n",
        "survey_info.head()"
      ],
      "metadata": {
        "colab": {
          "base_uri": "https://localhost:8080/",
          "height": 206
        },
        "id": "NtGj1VxbHI_o",
        "outputId": "020a54a0-9867-4178-93d3-a0f3f6b3cce7"
      },
      "execution_count": 37,
      "outputs": [
        {
          "output_type": "execute_result",
          "data": {
            "text/plain": [
              "   SurveyID                    Description\n",
              "0      2014  mental health survey for 2014\n",
              "1      2016  mental health survey for 2016\n",
              "2      2017  mental health survey for 2017\n",
              "3      2018  mental health survey for 2018\n",
              "4      2019  mental health survey for 2019"
            ],
            "text/html": [
              "\n",
              "  <div id=\"df-f1b53fb5-ac99-4f97-93fd-6c1e77691092\">\n",
              "    <div class=\"colab-df-container\">\n",
              "      <div>\n",
              "<style scoped>\n",
              "    .dataframe tbody tr th:only-of-type {\n",
              "        vertical-align: middle;\n",
              "    }\n",
              "\n",
              "    .dataframe tbody tr th {\n",
              "        vertical-align: top;\n",
              "    }\n",
              "\n",
              "    .dataframe thead th {\n",
              "        text-align: right;\n",
              "    }\n",
              "</style>\n",
              "<table border=\"1\" class=\"dataframe\">\n",
              "  <thead>\n",
              "    <tr style=\"text-align: right;\">\n",
              "      <th></th>\n",
              "      <th>SurveyID</th>\n",
              "      <th>Description</th>\n",
              "    </tr>\n",
              "  </thead>\n",
              "  <tbody>\n",
              "    <tr>\n",
              "      <th>0</th>\n",
              "      <td>2014</td>\n",
              "      <td>mental health survey for 2014</td>\n",
              "    </tr>\n",
              "    <tr>\n",
              "      <th>1</th>\n",
              "      <td>2016</td>\n",
              "      <td>mental health survey for 2016</td>\n",
              "    </tr>\n",
              "    <tr>\n",
              "      <th>2</th>\n",
              "      <td>2017</td>\n",
              "      <td>mental health survey for 2017</td>\n",
              "    </tr>\n",
              "    <tr>\n",
              "      <th>3</th>\n",
              "      <td>2018</td>\n",
              "      <td>mental health survey for 2018</td>\n",
              "    </tr>\n",
              "    <tr>\n",
              "      <th>4</th>\n",
              "      <td>2019</td>\n",
              "      <td>mental health survey for 2019</td>\n",
              "    </tr>\n",
              "  </tbody>\n",
              "</table>\n",
              "</div>\n",
              "      <button class=\"colab-df-convert\" onclick=\"convertToInteractive('df-f1b53fb5-ac99-4f97-93fd-6c1e77691092')\"\n",
              "              title=\"Convert this dataframe to an interactive table.\"\n",
              "              style=\"display:none;\">\n",
              "        \n",
              "  <svg xmlns=\"http://www.w3.org/2000/svg\" height=\"24px\"viewBox=\"0 0 24 24\"\n",
              "       width=\"24px\">\n",
              "    <path d=\"M0 0h24v24H0V0z\" fill=\"none\"/>\n",
              "    <path d=\"M18.56 5.44l.94 2.06.94-2.06 2.06-.94-2.06-.94-.94-2.06-.94 2.06-2.06.94zm-11 1L8.5 8.5l.94-2.06 2.06-.94-2.06-.94L8.5 2.5l-.94 2.06-2.06.94zm10 10l.94 2.06.94-2.06 2.06-.94-2.06-.94-.94-2.06-.94 2.06-2.06.94z\"/><path d=\"M17.41 7.96l-1.37-1.37c-.4-.4-.92-.59-1.43-.59-.52 0-1.04.2-1.43.59L10.3 9.45l-7.72 7.72c-.78.78-.78 2.05 0 2.83L4 21.41c.39.39.9.59 1.41.59.51 0 1.02-.2 1.41-.59l7.78-7.78 2.81-2.81c.8-.78.8-2.07 0-2.86zM5.41 20L4 18.59l7.72-7.72 1.47 1.35L5.41 20z\"/>\n",
              "  </svg>\n",
              "      </button>\n",
              "      \n",
              "  <style>\n",
              "    .colab-df-container {\n",
              "      display:flex;\n",
              "      flex-wrap:wrap;\n",
              "      gap: 12px;\n",
              "    }\n",
              "\n",
              "    .colab-df-convert {\n",
              "      background-color: #E8F0FE;\n",
              "      border: none;\n",
              "      border-radius: 50%;\n",
              "      cursor: pointer;\n",
              "      display: none;\n",
              "      fill: #1967D2;\n",
              "      height: 32px;\n",
              "      padding: 0 0 0 0;\n",
              "      width: 32px;\n",
              "    }\n",
              "\n",
              "    .colab-df-convert:hover {\n",
              "      background-color: #E2EBFA;\n",
              "      box-shadow: 0px 1px 2px rgba(60, 64, 67, 0.3), 0px 1px 3px 1px rgba(60, 64, 67, 0.15);\n",
              "      fill: #174EA6;\n",
              "    }\n",
              "\n",
              "    [theme=dark] .colab-df-convert {\n",
              "      background-color: #3B4455;\n",
              "      fill: #D2E3FC;\n",
              "    }\n",
              "\n",
              "    [theme=dark] .colab-df-convert:hover {\n",
              "      background-color: #434B5C;\n",
              "      box-shadow: 0px 1px 3px 1px rgba(0, 0, 0, 0.15);\n",
              "      filter: drop-shadow(0px 1px 2px rgba(0, 0, 0, 0.3));\n",
              "      fill: #FFFFFF;\n",
              "    }\n",
              "  </style>\n",
              "\n",
              "      <script>\n",
              "        const buttonEl =\n",
              "          document.querySelector('#df-f1b53fb5-ac99-4f97-93fd-6c1e77691092 button.colab-df-convert');\n",
              "        buttonEl.style.display =\n",
              "          google.colab.kernel.accessAllowed ? 'block' : 'none';\n",
              "\n",
              "        async function convertToInteractive(key) {\n",
              "          const element = document.querySelector('#df-f1b53fb5-ac99-4f97-93fd-6c1e77691092');\n",
              "          const dataTable =\n",
              "            await google.colab.kernel.invokeFunction('convertToInteractive',\n",
              "                                                     [key], {});\n",
              "          if (!dataTable) return;\n",
              "\n",
              "          const docLinkHtml = 'Like what you see? Visit the ' +\n",
              "            '<a target=\"_blank\" href=https://colab.research.google.com/notebooks/data_table.ipynb>data table notebook</a>'\n",
              "            + ' to learn more about interactive tables.';\n",
              "          element.innerHTML = '';\n",
              "          dataTable['output_type'] = 'display_data';\n",
              "          await google.colab.output.renderOutput(dataTable, element);\n",
              "          const docLink = document.createElement('div');\n",
              "          docLink.innerHTML = docLinkHtml;\n",
              "          element.appendChild(docLink);\n",
              "        }\n",
              "      </script>\n",
              "    </div>\n",
              "  </div>\n",
              "  "
            ]
          },
          "metadata": {},
          "execution_count": 37
        }
      ]
    },
    {
      "cell_type": "markdown",
      "source": [
        "First table describes the years in which the survey was conducted."
      ],
      "metadata": {
        "id": "o9sW9AX5R6gp"
      }
    },
    {
      "cell_type": "code",
      "source": [
        "questions = pd.read_sql(\"\"\"\n",
        "                        SELECT * \n",
        "                        FROM Question\n",
        "                        \"\"\", connection)\n",
        "\n",
        "questions.set_index(\"questionid\").head(10)"
      ],
      "metadata": {
        "id": "BsvqiRIyxVjC",
        "colab": {
          "base_uri": "https://localhost:8080/",
          "height": 394
        },
        "outputId": "df776f3b-97fb-4061-c5fc-ab3832ff65d1"
      },
      "execution_count": 38,
      "outputs": [
        {
          "output_type": "execute_result",
          "data": {
            "text/plain": [
              "                                                 questiontext\n",
              "questionid                                                   \n",
              "1                                           What is your age?\n",
              "2                                        What is your gender?\n",
              "3                                What country do you live in?\n",
              "4           If you live in the United States, which state ...\n",
              "5                                      Are you self-employed?\n",
              "6             Do you have a family history of mental illness?\n",
              "7           Have you ever sought treatment for a mental he...\n",
              "8           How many employees does your company or organi...\n",
              "9           Is your employer primarily a tech company/orga...\n",
              "10          Does your employer provide mental health benef..."
            ],
            "text/html": [
              "\n",
              "  <div id=\"df-f1abcd10-c315-423a-870a-b324553e1a8b\">\n",
              "    <div class=\"colab-df-container\">\n",
              "      <div>\n",
              "<style scoped>\n",
              "    .dataframe tbody tr th:only-of-type {\n",
              "        vertical-align: middle;\n",
              "    }\n",
              "\n",
              "    .dataframe tbody tr th {\n",
              "        vertical-align: top;\n",
              "    }\n",
              "\n",
              "    .dataframe thead th {\n",
              "        text-align: right;\n",
              "    }\n",
              "</style>\n",
              "<table border=\"1\" class=\"dataframe\">\n",
              "  <thead>\n",
              "    <tr style=\"text-align: right;\">\n",
              "      <th></th>\n",
              "      <th>questiontext</th>\n",
              "    </tr>\n",
              "    <tr>\n",
              "      <th>questionid</th>\n",
              "      <th></th>\n",
              "    </tr>\n",
              "  </thead>\n",
              "  <tbody>\n",
              "    <tr>\n",
              "      <th>1</th>\n",
              "      <td>What is your age?</td>\n",
              "    </tr>\n",
              "    <tr>\n",
              "      <th>2</th>\n",
              "      <td>What is your gender?</td>\n",
              "    </tr>\n",
              "    <tr>\n",
              "      <th>3</th>\n",
              "      <td>What country do you live in?</td>\n",
              "    </tr>\n",
              "    <tr>\n",
              "      <th>4</th>\n",
              "      <td>If you live in the United States, which state ...</td>\n",
              "    </tr>\n",
              "    <tr>\n",
              "      <th>5</th>\n",
              "      <td>Are you self-employed?</td>\n",
              "    </tr>\n",
              "    <tr>\n",
              "      <th>6</th>\n",
              "      <td>Do you have a family history of mental illness?</td>\n",
              "    </tr>\n",
              "    <tr>\n",
              "      <th>7</th>\n",
              "      <td>Have you ever sought treatment for a mental he...</td>\n",
              "    </tr>\n",
              "    <tr>\n",
              "      <th>8</th>\n",
              "      <td>How many employees does your company or organi...</td>\n",
              "    </tr>\n",
              "    <tr>\n",
              "      <th>9</th>\n",
              "      <td>Is your employer primarily a tech company/orga...</td>\n",
              "    </tr>\n",
              "    <tr>\n",
              "      <th>10</th>\n",
              "      <td>Does your employer provide mental health benef...</td>\n",
              "    </tr>\n",
              "  </tbody>\n",
              "</table>\n",
              "</div>\n",
              "      <button class=\"colab-df-convert\" onclick=\"convertToInteractive('df-f1abcd10-c315-423a-870a-b324553e1a8b')\"\n",
              "              title=\"Convert this dataframe to an interactive table.\"\n",
              "              style=\"display:none;\">\n",
              "        \n",
              "  <svg xmlns=\"http://www.w3.org/2000/svg\" height=\"24px\"viewBox=\"0 0 24 24\"\n",
              "       width=\"24px\">\n",
              "    <path d=\"M0 0h24v24H0V0z\" fill=\"none\"/>\n",
              "    <path d=\"M18.56 5.44l.94 2.06.94-2.06 2.06-.94-2.06-.94-.94-2.06-.94 2.06-2.06.94zm-11 1L8.5 8.5l.94-2.06 2.06-.94-2.06-.94L8.5 2.5l-.94 2.06-2.06.94zm10 10l.94 2.06.94-2.06 2.06-.94-2.06-.94-.94-2.06-.94 2.06-2.06.94z\"/><path d=\"M17.41 7.96l-1.37-1.37c-.4-.4-.92-.59-1.43-.59-.52 0-1.04.2-1.43.59L10.3 9.45l-7.72 7.72c-.78.78-.78 2.05 0 2.83L4 21.41c.39.39.9.59 1.41.59.51 0 1.02-.2 1.41-.59l7.78-7.78 2.81-2.81c.8-.78.8-2.07 0-2.86zM5.41 20L4 18.59l7.72-7.72 1.47 1.35L5.41 20z\"/>\n",
              "  </svg>\n",
              "      </button>\n",
              "      \n",
              "  <style>\n",
              "    .colab-df-container {\n",
              "      display:flex;\n",
              "      flex-wrap:wrap;\n",
              "      gap: 12px;\n",
              "    }\n",
              "\n",
              "    .colab-df-convert {\n",
              "      background-color: #E8F0FE;\n",
              "      border: none;\n",
              "      border-radius: 50%;\n",
              "      cursor: pointer;\n",
              "      display: none;\n",
              "      fill: #1967D2;\n",
              "      height: 32px;\n",
              "      padding: 0 0 0 0;\n",
              "      width: 32px;\n",
              "    }\n",
              "\n",
              "    .colab-df-convert:hover {\n",
              "      background-color: #E2EBFA;\n",
              "      box-shadow: 0px 1px 2px rgba(60, 64, 67, 0.3), 0px 1px 3px 1px rgba(60, 64, 67, 0.15);\n",
              "      fill: #174EA6;\n",
              "    }\n",
              "\n",
              "    [theme=dark] .colab-df-convert {\n",
              "      background-color: #3B4455;\n",
              "      fill: #D2E3FC;\n",
              "    }\n",
              "\n",
              "    [theme=dark] .colab-df-convert:hover {\n",
              "      background-color: #434B5C;\n",
              "      box-shadow: 0px 1px 3px 1px rgba(0, 0, 0, 0.15);\n",
              "      filter: drop-shadow(0px 1px 2px rgba(0, 0, 0, 0.3));\n",
              "      fill: #FFFFFF;\n",
              "    }\n",
              "  </style>\n",
              "\n",
              "      <script>\n",
              "        const buttonEl =\n",
              "          document.querySelector('#df-f1abcd10-c315-423a-870a-b324553e1a8b button.colab-df-convert');\n",
              "        buttonEl.style.display =\n",
              "          google.colab.kernel.accessAllowed ? 'block' : 'none';\n",
              "\n",
              "        async function convertToInteractive(key) {\n",
              "          const element = document.querySelector('#df-f1abcd10-c315-423a-870a-b324553e1a8b');\n",
              "          const dataTable =\n",
              "            await google.colab.kernel.invokeFunction('convertToInteractive',\n",
              "                                                     [key], {});\n",
              "          if (!dataTable) return;\n",
              "\n",
              "          const docLinkHtml = 'Like what you see? Visit the ' +\n",
              "            '<a target=\"_blank\" href=https://colab.research.google.com/notebooks/data_table.ipynb>data table notebook</a>'\n",
              "            + ' to learn more about interactive tables.';\n",
              "          element.innerHTML = '';\n",
              "          dataTable['output_type'] = 'display_data';\n",
              "          await google.colab.output.renderOutput(dataTable, element);\n",
              "          const docLink = document.createElement('div');\n",
              "          docLink.innerHTML = docLinkHtml;\n",
              "          element.appendChild(docLink);\n",
              "        }\n",
              "      </script>\n",
              "    </div>\n",
              "  </div>\n",
              "  "
            ]
          },
          "metadata": {},
          "execution_count": 38
        }
      ]
    },
    {
      "cell_type": "markdown",
      "source": [
        "Second table shows questions that were asked in the mental health survey and their ID. "
      ],
      "metadata": {
        "id": "JUmHRyhlToXs"
      }
    },
    {
      "cell_type": "code",
      "source": [
        "answers = pd.read_sql(\"\"\"\n",
        "                      SELECT * \n",
        "                      FROM Answer\n",
        "                      \"\"\", connection)\n",
        "\n",
        "answers.head()"
      ],
      "metadata": {
        "id": "ASva3t1K5EQU",
        "colab": {
          "base_uri": "https://localhost:8080/",
          "height": 206
        },
        "outputId": "39d1c663-18aa-4ce4-f617-f20e1403deba"
      },
      "execution_count": 39,
      "outputs": [
        {
          "output_type": "execute_result",
          "data": {
            "text/plain": [
              "  AnswerText  SurveyID  UserID  QuestionID\n",
              "0         37      2014       1           1\n",
              "1         44      2014       2           1\n",
              "2         32      2014       3           1\n",
              "3         31      2014       4           1\n",
              "4         31      2014       5           1"
            ],
            "text/html": [
              "\n",
              "  <div id=\"df-91deceee-875a-4cc2-ad1d-0aac06d8dfac\">\n",
              "    <div class=\"colab-df-container\">\n",
              "      <div>\n",
              "<style scoped>\n",
              "    .dataframe tbody tr th:only-of-type {\n",
              "        vertical-align: middle;\n",
              "    }\n",
              "\n",
              "    .dataframe tbody tr th {\n",
              "        vertical-align: top;\n",
              "    }\n",
              "\n",
              "    .dataframe thead th {\n",
              "        text-align: right;\n",
              "    }\n",
              "</style>\n",
              "<table border=\"1\" class=\"dataframe\">\n",
              "  <thead>\n",
              "    <tr style=\"text-align: right;\">\n",
              "      <th></th>\n",
              "      <th>AnswerText</th>\n",
              "      <th>SurveyID</th>\n",
              "      <th>UserID</th>\n",
              "      <th>QuestionID</th>\n",
              "    </tr>\n",
              "  </thead>\n",
              "  <tbody>\n",
              "    <tr>\n",
              "      <th>0</th>\n",
              "      <td>37</td>\n",
              "      <td>2014</td>\n",
              "      <td>1</td>\n",
              "      <td>1</td>\n",
              "    </tr>\n",
              "    <tr>\n",
              "      <th>1</th>\n",
              "      <td>44</td>\n",
              "      <td>2014</td>\n",
              "      <td>2</td>\n",
              "      <td>1</td>\n",
              "    </tr>\n",
              "    <tr>\n",
              "      <th>2</th>\n",
              "      <td>32</td>\n",
              "      <td>2014</td>\n",
              "      <td>3</td>\n",
              "      <td>1</td>\n",
              "    </tr>\n",
              "    <tr>\n",
              "      <th>3</th>\n",
              "      <td>31</td>\n",
              "      <td>2014</td>\n",
              "      <td>4</td>\n",
              "      <td>1</td>\n",
              "    </tr>\n",
              "    <tr>\n",
              "      <th>4</th>\n",
              "      <td>31</td>\n",
              "      <td>2014</td>\n",
              "      <td>5</td>\n",
              "      <td>1</td>\n",
              "    </tr>\n",
              "  </tbody>\n",
              "</table>\n",
              "</div>\n",
              "      <button class=\"colab-df-convert\" onclick=\"convertToInteractive('df-91deceee-875a-4cc2-ad1d-0aac06d8dfac')\"\n",
              "              title=\"Convert this dataframe to an interactive table.\"\n",
              "              style=\"display:none;\">\n",
              "        \n",
              "  <svg xmlns=\"http://www.w3.org/2000/svg\" height=\"24px\"viewBox=\"0 0 24 24\"\n",
              "       width=\"24px\">\n",
              "    <path d=\"M0 0h24v24H0V0z\" fill=\"none\"/>\n",
              "    <path d=\"M18.56 5.44l.94 2.06.94-2.06 2.06-.94-2.06-.94-.94-2.06-.94 2.06-2.06.94zm-11 1L8.5 8.5l.94-2.06 2.06-.94-2.06-.94L8.5 2.5l-.94 2.06-2.06.94zm10 10l.94 2.06.94-2.06 2.06-.94-2.06-.94-.94-2.06-.94 2.06-2.06.94z\"/><path d=\"M17.41 7.96l-1.37-1.37c-.4-.4-.92-.59-1.43-.59-.52 0-1.04.2-1.43.59L10.3 9.45l-7.72 7.72c-.78.78-.78 2.05 0 2.83L4 21.41c.39.39.9.59 1.41.59.51 0 1.02-.2 1.41-.59l7.78-7.78 2.81-2.81c.8-.78.8-2.07 0-2.86zM5.41 20L4 18.59l7.72-7.72 1.47 1.35L5.41 20z\"/>\n",
              "  </svg>\n",
              "      </button>\n",
              "      \n",
              "  <style>\n",
              "    .colab-df-container {\n",
              "      display:flex;\n",
              "      flex-wrap:wrap;\n",
              "      gap: 12px;\n",
              "    }\n",
              "\n",
              "    .colab-df-convert {\n",
              "      background-color: #E8F0FE;\n",
              "      border: none;\n",
              "      border-radius: 50%;\n",
              "      cursor: pointer;\n",
              "      display: none;\n",
              "      fill: #1967D2;\n",
              "      height: 32px;\n",
              "      padding: 0 0 0 0;\n",
              "      width: 32px;\n",
              "    }\n",
              "\n",
              "    .colab-df-convert:hover {\n",
              "      background-color: #E2EBFA;\n",
              "      box-shadow: 0px 1px 2px rgba(60, 64, 67, 0.3), 0px 1px 3px 1px rgba(60, 64, 67, 0.15);\n",
              "      fill: #174EA6;\n",
              "    }\n",
              "\n",
              "    [theme=dark] .colab-df-convert {\n",
              "      background-color: #3B4455;\n",
              "      fill: #D2E3FC;\n",
              "    }\n",
              "\n",
              "    [theme=dark] .colab-df-convert:hover {\n",
              "      background-color: #434B5C;\n",
              "      box-shadow: 0px 1px 3px 1px rgba(0, 0, 0, 0.15);\n",
              "      filter: drop-shadow(0px 1px 2px rgba(0, 0, 0, 0.3));\n",
              "      fill: #FFFFFF;\n",
              "    }\n",
              "  </style>\n",
              "\n",
              "      <script>\n",
              "        const buttonEl =\n",
              "          document.querySelector('#df-91deceee-875a-4cc2-ad1d-0aac06d8dfac button.colab-df-convert');\n",
              "        buttonEl.style.display =\n",
              "          google.colab.kernel.accessAllowed ? 'block' : 'none';\n",
              "\n",
              "        async function convertToInteractive(key) {\n",
              "          const element = document.querySelector('#df-91deceee-875a-4cc2-ad1d-0aac06d8dfac');\n",
              "          const dataTable =\n",
              "            await google.colab.kernel.invokeFunction('convertToInteractive',\n",
              "                                                     [key], {});\n",
              "          if (!dataTable) return;\n",
              "\n",
              "          const docLinkHtml = 'Like what you see? Visit the ' +\n",
              "            '<a target=\"_blank\" href=https://colab.research.google.com/notebooks/data_table.ipynb>data table notebook</a>'\n",
              "            + ' to learn more about interactive tables.';\n",
              "          element.innerHTML = '';\n",
              "          dataTable['output_type'] = 'display_data';\n",
              "          await google.colab.output.renderOutput(dataTable, element);\n",
              "          const docLink = document.createElement('div');\n",
              "          docLink.innerHTML = docLinkHtml;\n",
              "          element.appendChild(docLink);\n",
              "        }\n",
              "      </script>\n",
              "    </div>\n",
              "  </div>\n",
              "  "
            ]
          },
          "metadata": {},
          "execution_count": 39
        }
      ]
    },
    {
      "cell_type": "markdown",
      "source": [
        "Last table contains the answers to the questions as well as some additional columns allowing to identify the year of the survey and associate the answer to the question."
      ],
      "metadata": {
        "id": "mq6qsfCBUsJq"
      }
    },
    {
      "cell_type": "markdown",
      "source": [
        "## Data inspection"
      ],
      "metadata": {
        "id": "rmHB9yfWj0pO"
      }
    },
    {
      "cell_type": "markdown",
      "source": [
        "First, we will inspect the number of survey questions throughout the years."
      ],
      "metadata": {
        "id": "Om--D_M8khHQ"
      }
    },
    {
      "cell_type": "code",
      "source": [
        "year_questions = pd.read_sql(\"\"\"\n",
        "                             SELECT SurveyID AS year, \n",
        "                                    COUNT(DISTINCT QuestionID) AS no_questions\n",
        "                             FROM Answer \n",
        "                             GROUP BY year\n",
        "                             ORDER BY year\n",
        "                             \"\"\", connection)\n",
        "\n",
        "sns.barplot(x=\"year\", y=\"no_questions\", data=year_questions, color=\"grey\");\n",
        "\n",
        "plt.title(\"Number of survey questions\");\n",
        "plt.ylabel(None);"
      ],
      "metadata": {
        "id": "hRElIWrUjzlC",
        "colab": {
          "base_uri": "https://localhost:8080/",
          "height": 295
        },
        "outputId": "d42543f9-6158-47f5-f450-e49587120cb2"
      },
      "execution_count": 40,
      "outputs": [
        {
          "output_type": "display_data",
          "data": {
            "text/plain": [
              "<Figure size 432x288 with 1 Axes>"
            ],
            "image/png": "[encoded data removed]"
          },
          "metadata": {
            "needs_background": "light"
          }
        }
      ]
    },
    {
      "cell_type": "markdown",
      "source": [
        "We can observe that the survey was not conducted in the year 2015. We see that the number of questions varied across different years.\n",
        "\n",
        "Similarly, the number of respondents per year will be checked."
      ],
      "metadata": {
        "id": "a50tLYS3m6a-"
      }
    },
    {
      "cell_type": "code",
      "source": [
        "year_respondents = pd.read_sql(\"\"\"\n",
        "                               SELECT SurveyID AS year, \n",
        "                                      COUNT(DISTINCT UserID) AS no_respondents\n",
        "                               FROM Answer \n",
        "                               GROUP BY year\n",
        "                               ORDER BY year\n",
        "                               \"\"\", connection)\n",
        "\n",
        "sns.barplot(x=\"year\", y=\"no_respondents\", data=year_respondents, color=\"grey\");\n",
        "\n",
        "plt.title(\"Number of survey respondents\");\n",
        "plt.ylabel(None);"
      ],
      "metadata": {
        "colab": {
          "base_uri": "https://localhost:8080/",
          "height": 295
        },
        "id": "UAddYliL07rX",
        "outputId": "76490ad3-890a-4fae-94cd-e4f16475c17c"
      },
      "execution_count": 41,
      "outputs": [
        {
          "output_type": "display_data",
          "data": {
            "text/plain": [
              "<Figure size 432x288 with 1 Axes>"
            ],
            "image/png": "[encoded data removed]"
          },
          "metadata": {
            "needs_background": "light"
          }
        }
      ]
    },
    {
      "cell_type": "markdown",
      "source": [
        "We see that most of the responses were received in 2016 and 2014 and reduced in years 2017, 2018, 2019."
      ],
      "metadata": {
        "id": "f1bnXqmj2Xgi"
      }
    },
    {
      "cell_type": "markdown",
      "source": [
        "## Respondents"
      ],
      "metadata": {
        "id": "DsUQFAKh7eXP"
      }
    },
    {
      "cell_type": "markdown",
      "source": [
        "In this section, we will have a look at the demographic profile of the respondents. We will start with the age."
      ],
      "metadata": {
        "id": "swmnWB4JmGR_"
      }
    },
    {
      "cell_type": "code",
      "source": [
        "respondent_age = pd.read_sql(\"\"\"\n",
        "                            SELECT UserID, CAST(AnswerText AS int) AS age\n",
        "                            FROM Answer\n",
        "                            WHERE QuestionID = 1\n",
        "                            \"\"\", connection)\n",
        "\n",
        "axis = respondent_age.age.plot.box(figsize=(6, 7));\n",
        "\n",
        "axis.get_xaxis().set_visible(False);"
      ],
      "metadata": {
        "colab": {
          "base_uri": "https://localhost:8080/",
          "height": 415
        },
        "id": "JOv4F1Xg9Ew0",
        "outputId": "ab39d20f-defb-4629-d220-25e467835c6e"
      },
      "execution_count": 42,
      "outputs": [
        {
          "output_type": "display_data",
          "data": {
            "text/plain": [
              "<Figure size 432x504 with 1 Axes>"
            ],
            "image/png": "[encoded data removed]"
          },
          "metadata": {
            "needs_background": "light"
          }
        }
      ]
    },
    {
      "cell_type": "markdown",
      "source": [
        "The age variable has some unexpected values - some of them are negative or range above 100. Since the survey and its questions target individuals working in tech industry, we will only include the respondents with a reasonable working age range: from 16 to 70 years. Then, they will be grouped into age groups with an increment of 5."
      ],
      "metadata": {
        "id": "aOdICg5A_wR8"
      }
    },
    {
      "cell_type": "code",
      "source": [
        "respondent_age = pd.read_sql(\"\"\"\n",
        "                             SELECT UserID, CAST(AnswerText AS int) AS age\n",
        "                             FROM Answer\n",
        "                             WHERE QuestionID = 1 \n",
        "                             AND age >= 15 \n",
        "                             AND age <= 70\n",
        "                             \"\"\", connection)\n",
        "\n",
        "sns.histplot(respondent_age, x=\"age\", bins=np.arange(16, 72, 5));\n",
        "\n",
        "plt.title(\"Distribution of repondents age\")\n",
        "plt.ylabel(None);"
      ],
      "metadata": {
        "colab": {
          "base_uri": "https://localhost:8080/",
          "height": 295
        },
        "id": "9LqUsqWpr0gB",
        "outputId": "9f46e829-6534-4f0d-e5bc-16c6866a749d"
      },
      "execution_count": 43,
      "outputs": [
        {
          "output_type": "display_data",
          "data": {
            "text/plain": [
              "<Figure size 432x288 with 1 Axes>"
            ],
            "image/png": "[encoded data removed]"
          },
          "metadata": {
            "needs_background": "light"
          }
        }
      ]
    },
    {
      "cell_type": "markdown",
      "source": [
        "We see that the age distribution is right-tailed with most of the respondents falling in the 26-30 year category.   \n",
        "\n",
        "Next, we will inspect the gender of the respondents."
      ],
      "metadata": {
        "id": "M8YGgSlo8cP_"
      }
    },
    {
      "cell_type": "code",
      "source": [
        "gender_answer = pd.read_sql(\"\"\"\n",
        "                            SELECT AnswerText AS answer, \n",
        "                                   COUNT(DISTINCT UserID) AS no_respondents\n",
        "                            FROM (SELECT AnswerText, UserID\n",
        "                                 FROM Answer\n",
        "                                 WHERE QuestionID = 2) \n",
        "                            GROUP BY AnswerText\n",
        "                            ORDER BY no_respondents DESC\n",
        "                            \"\"\", connection)\n",
        "\n",
        "gender_answer.head(12)"
      ],
      "metadata": {
        "colab": {
          "base_uri": "https://localhost:8080/",
          "height": 425
        },
        "id": "71EauFlUc7SX",
        "outputId": "e7ab8f58-ceea-4548-940c-0e63c23e7713"
      },
      "execution_count": 44,
      "outputs": [
        {
          "output_type": "execute_result",
          "data": {
            "text/plain": [
              "         answer  no_respondents\n",
              "0          Male            2830\n",
              "1        Female             914\n",
              "2          male             212\n",
              "3        female             110\n",
              "4            -1              24\n",
              "5     Nonbinary               8\n",
              "6    non-binary               6\n",
              "7   Genderqueer               4\n",
              "8       Agender               4\n",
              "9          None               3\n",
              "10   Non-binary               3\n",
              "11  Genderfluid               3"
            ],
            "text/html": [
              "\n",
              "  <div id=\"df-49bbbab5-8549-4d07-bcf5-eca68aa48d9e\">\n",
              "    <div class=\"colab-df-container\">\n",
              "      <div>\n",
              "<style scoped>\n",
              "    .dataframe tbody tr th:only-of-type {\n",
              "        vertical-align: middle;\n",
              "    }\n",
              "\n",
              "    .dataframe tbody tr th {\n",
              "        vertical-align: top;\n",
              "    }\n",
              "\n",
              "    .dataframe thead th {\n",
              "        text-align: right;\n",
              "    }\n",
              "</style>\n",
              "<table border=\"1\" class=\"dataframe\">\n",
              "  <thead>\n",
              "    <tr style=\"text-align: right;\">\n",
              "      <th></th>\n",
              "      <th>answer</th>\n",
              "      <th>no_respondents</th>\n",
              "    </tr>\n",
              "  </thead>\n",
              "  <tbody>\n",
              "    <tr>\n",
              "      <th>0</th>\n",
              "      <td>Male</td>\n",
              "      <td>2830</td>\n",
              "    </tr>\n",
              "    <tr>\n",
              "      <th>1</th>\n",
              "      <td>Female</td>\n",
              "      <td>914</td>\n",
              "    </tr>\n",
              "    <tr>\n",
              "      <th>2</th>\n",
              "      <td>male</td>\n",
              "      <td>212</td>\n",
              "    </tr>\n",
              "    <tr>\n",
              "      <th>3</th>\n",
              "      <td>female</td>\n",
              "      <td>110</td>\n",
              "    </tr>\n",
              "    <tr>\n",
              "      <th>4</th>\n",
              "      <td>-1</td>\n",
              "      <td>24</td>\n",
              "    </tr>\n",
              "    <tr>\n",
              "      <th>5</th>\n",
              "      <td>Nonbinary</td>\n",
              "      <td>8</td>\n",
              "    </tr>\n",
              "    <tr>\n",
              "      <th>6</th>\n",
              "      <td>non-binary</td>\n",
              "      <td>6</td>\n",
              "    </tr>\n",
              "    <tr>\n",
              "      <th>7</th>\n",
              "      <td>Genderqueer</td>\n",
              "      <td>4</td>\n",
              "    </tr>\n",
              "    <tr>\n",
              "      <th>8</th>\n",
              "      <td>Agender</td>\n",
              "      <td>4</td>\n",
              "    </tr>\n",
              "    <tr>\n",
              "      <th>9</th>\n",
              "      <td>None</td>\n",
              "      <td>3</td>\n",
              "    </tr>\n",
              "    <tr>\n",
              "      <th>10</th>\n",
              "      <td>Non-binary</td>\n",
              "      <td>3</td>\n",
              "    </tr>\n",
              "    <tr>\n",
              "      <th>11</th>\n",
              "      <td>Genderfluid</td>\n",
              "      <td>3</td>\n",
              "    </tr>\n",
              "  </tbody>\n",
              "</table>\n",
              "</div>\n",
              "      <button class=\"colab-df-convert\" onclick=\"convertToInteractive('df-49bbbab5-8549-4d07-bcf5-eca68aa48d9e')\"\n",
              "              title=\"Convert this dataframe to an interactive table.\"\n",
              "              style=\"display:none;\">\n",
              "        \n",
              "  <svg xmlns=\"http://www.w3.org/2000/svg\" height=\"24px\"viewBox=\"0 0 24 24\"\n",
              "       width=\"24px\">\n",
              "    <path d=\"M0 0h24v24H0V0z\" fill=\"none\"/>\n",
              "    <path d=\"M18.56 5.44l.94 2.06.94-2.06 2.06-.94-2.06-.94-.94-2.06-.94 2.06-2.06.94zm-11 1L8.5 8.5l.94-2.06 2.06-.94-2.06-.94L8.5 2.5l-.94 2.06-2.06.94zm10 10l.94 2.06.94-2.06 2.06-.94-2.06-.94-.94-2.06-.94 2.06-2.06.94z\"/><path d=\"M17.41 7.96l-1.37-1.37c-.4-.4-.92-.59-1.43-.59-.52 0-1.04.2-1.43.59L10.3 9.45l-7.72 7.72c-.78.78-.78 2.05 0 2.83L4 21.41c.39.39.9.59 1.41.59.51 0 1.02-.2 1.41-.59l7.78-7.78 2.81-2.81c.8-.78.8-2.07 0-2.86zM5.41 20L4 18.59l7.72-7.72 1.47 1.35L5.41 20z\"/>\n",
              "  </svg>\n",
              "      </button>\n",
              "      \n",
              "  <style>\n",
              "    .colab-df-container {\n",
              "      display:flex;\n",
              "      flex-wrap:wrap;\n",
              "      gap: 12px;\n",
              "    }\n",
              "\n",
              "    .colab-df-convert {\n",
              "      background-color: #E8F0FE;\n",
              "      border: none;\n",
              "      border-radius: 50%;\n",
              "      cursor: pointer;\n",
              "      display: none;\n",
              "      fill: #1967D2;\n",
              "      height: 32px;\n",
              "      padding: 0 0 0 0;\n",
              "      width: 32px;\n",
              "    }\n",
              "\n",
              "    .colab-df-convert:hover {\n",
              "      background-color: #E2EBFA;\n",
              "      box-shadow: 0px 1px 2px rgba(60, 64, 67, 0.3), 0px 1px 3px 1px rgba(60, 64, 67, 0.15);\n",
              "      fill: #174EA6;\n",
              "    }\n",
              "\n",
              "    [theme=dark] .colab-df-convert {\n",
              "      background-color: #3B4455;\n",
              "      fill: #D2E3FC;\n",
              "    }\n",
              "\n",
              "    [theme=dark] .colab-df-convert:hover {\n",
              "      background-color: #434B5C;\n",
              "      box-shadow: 0px 1px 3px 1px rgba(0, 0, 0, 0.15);\n",
              "      filter: drop-shadow(0px 1px 2px rgba(0, 0, 0, 0.3));\n",
              "      fill: #FFFFFF;\n",
              "    }\n",
              "  </style>\n",
              "\n",
              "      <script>\n",
              "        const buttonEl =\n",
              "          document.querySelector('#df-49bbbab5-8549-4d07-bcf5-eca68aa48d9e button.colab-df-convert');\n",
              "        buttonEl.style.display =\n",
              "          google.colab.kernel.accessAllowed ? 'block' : 'none';\n",
              "\n",
              "        async function convertToInteractive(key) {\n",
              "          const element = document.querySelector('#df-49bbbab5-8549-4d07-bcf5-eca68aa48d9e');\n",
              "          const dataTable =\n",
              "            await google.colab.kernel.invokeFunction('convertToInteractive',\n",
              "                                                     [key], {});\n",
              "          if (!dataTable) return;\n",
              "\n",
              "          const docLinkHtml = 'Like what you see? Visit the ' +\n",
              "            '<a target=\"_blank\" href=https://colab.research.google.com/notebooks/data_table.ipynb>data table notebook</a>'\n",
              "            + ' to learn more about interactive tables.';\n",
              "          element.innerHTML = '';\n",
              "          dataTable['output_type'] = 'display_data';\n",
              "          await google.colab.output.renderOutput(dataTable, element);\n",
              "          const docLink = document.createElement('div');\n",
              "          docLink.innerHTML = docLinkHtml;\n",
              "          element.appendChild(docLink);\n",
              "        }\n",
              "      </script>\n",
              "    </div>\n",
              "  </div>\n",
              "  "
            ]
          },
          "metadata": {},
          "execution_count": 44
        }
      ]
    },
    {
      "cell_type": "markdown",
      "source": [
        "There is a big variety of the answers to the question \"What is your gender?\". First, we can notice that some of the answers contain '-1' which most likely identifies that the answer was not provided or is unknown. Hence, these answers will be excluded here and throughout the rest of the notebook.\n",
        "\n",
        "The remaining answers will be categorized into 3 groups: *female*, *male* and *other*. *Other* category will contain all respondents who did not include the common female or male identification keywords."
      ],
      "metadata": {
        "id": "5xpf9ODKw_n0"
      }
    },
    {
      "cell_type": "code",
      "source": [
        "respondent_gender = pd.read_sql(\"\"\"\n",
        "                                SELECT COUNT(UserID) as no_respondents,\n",
        "                                       CASE\n",
        "                                          WHEN LOWER(AnswerText) LIKE \"%fem%\"\n",
        "                                          OR LOWER(AnswerText) LIKE \"%girl%\"\n",
        "                                          OR LOWER(AnswerText) LIKE \"%woman%\" \n",
        "                                          THEN \"female\"\n",
        "                                          WHEN LOWER(AnswerText) LIKE \"%man%\"\n",
        "                                          OR LOWER(AnswerText) LIKE \"%male%\"\n",
        "                                          OR LOWER(AnswerText) LIKE \"%guy%\"\n",
        "                                          OR LOWER(AnswerText) LIKE \"%boy%\"\n",
        "                                          OR LOWER(AnswerText) LIKE \"%mascul%\" \n",
        "                                          THEN \"male\"\n",
        "                                          ELSE \"other\"\n",
        "                                       END AS gender\n",
        "                               FROM (SELECT AnswerText, UserID\n",
        "                                     FROM Answer\n",
        "                                     WHERE QuestionID = 2 \n",
        "                                     AND AnswerText IS NOT \"-1\") \n",
        "                               GROUP BY gender\n",
        "                               \"\"\", connection)\n",
        "\n",
        "axis = sns.barplot(x=\"no_respondents\",\n",
        "            y=\"gender\",\n",
        "            data=respondent_gender, color=\"grey\");\n",
        "\n",
        "axis.set(yticklabels=[\"Female\", \"Male\", \"Other\"])\n",
        "plt.title(\"Respondent gender\")\n",
        "plt.xlabel(None);\n",
        "plt.ylabel(None);"
      ],
      "metadata": {
        "colab": {
          "base_uri": "https://localhost:8080/",
          "height": 281
        },
        "id": "C3GUeoLu7fOJ",
        "outputId": "e00fb895-c675-4c9e-803b-95e73c8ac254"
      },
      "execution_count": 45,
      "outputs": [
        {
          "output_type": "display_data",
          "data": {
            "text/plain": [
              "<Figure size 432x288 with 1 Axes>"
            ],
            "image/png": "[encoded data removed]"
          },
          "metadata": {
            "needs_background": "light"
          }
        }
      ]
    },
    {
      "cell_type": "markdown",
      "source": [
        "Majority of the respondents were men. \n",
        "\n",
        "Next, we will look at from which countries the respondents came from."
      ],
      "metadata": {
        "id": "-cP_v0OMCkSg"
      }
    },
    {
      "cell_type": "code",
      "source": [
        "respondent_country = pd.read_sql(\"\"\"\n",
        "                                 SELECT AnswerText AS country_name, \n",
        "                                        COUNT(DISTINCT UserID) AS no_respondents\n",
        "                                        FROM (SELECT AnswerText, UserID\n",
        "                                              FROM Answer\n",
        "                                              WHERE QuestionID = 3 \n",
        "                                              AND AnswerText IS NOT '-1') \n",
        "                                 GROUP BY AnswerText\n",
        "                                 ORDER BY no_respondents DESC\n",
        "                                 \"\"\", connection)\n",
        "\n",
        "respondent_country.head()"
      ],
      "metadata": {
        "colab": {
          "base_uri": "https://localhost:8080/",
          "height": 206
        },
        "id": "y-5G2dGuZRIG",
        "outputId": "f090f6d0-d143-4b37-861b-3c4284e61759"
      },
      "execution_count": 46,
      "outputs": [
        {
          "output_type": "execute_result",
          "data": {
            "text/plain": [
              "               country_name  no_respondents\n",
              "0  United States of America            1853\n",
              "1             United States             751\n",
              "2            United Kingdom             482\n",
              "3                    Canada             199\n",
              "4                   Germany             136"
            ],
            "text/html": [
              "\n",
              "  <div id=\"df-226edd3c-6975-4c0f-b012-0693b4feeba6\">\n",
              "    <div class=\"colab-df-container\">\n",
              "      <div>\n",
              "<style scoped>\n",
              "    .dataframe tbody tr th:only-of-type {\n",
              "        vertical-align: middle;\n",
              "    }\n",
              "\n",
              "    .dataframe tbody tr th {\n",
              "        vertical-align: top;\n",
              "    }\n",
              "\n",
              "    .dataframe thead th {\n",
              "        text-align: right;\n",
              "    }\n",
              "</style>\n",
              "<table border=\"1\" class=\"dataframe\">\n",
              "  <thead>\n",
              "    <tr style=\"text-align: right;\">\n",
              "      <th></th>\n",
              "      <th>country_name</th>\n",
              "      <th>no_respondents</th>\n",
              "    </tr>\n",
              "  </thead>\n",
              "  <tbody>\n",
              "    <tr>\n",
              "      <th>0</th>\n",
              "      <td>United States of America</td>\n",
              "      <td>1853</td>\n",
              "    </tr>\n",
              "    <tr>\n",
              "      <th>1</th>\n",
              "      <td>United States</td>\n",
              "      <td>751</td>\n",
              "    </tr>\n",
              "    <tr>\n",
              "      <th>2</th>\n",
              "      <td>United Kingdom</td>\n",
              "      <td>482</td>\n",
              "    </tr>\n",
              "    <tr>\n",
              "      <th>3</th>\n",
              "      <td>Canada</td>\n",
              "      <td>199</td>\n",
              "    </tr>\n",
              "    <tr>\n",
              "      <th>4</th>\n",
              "      <td>Germany</td>\n",
              "      <td>136</td>\n",
              "    </tr>\n",
              "  </tbody>\n",
              "</table>\n",
              "</div>\n",
              "      <button class=\"colab-df-convert\" onclick=\"convertToInteractive('df-226edd3c-6975-4c0f-b012-0693b4feeba6')\"\n",
              "              title=\"Convert this dataframe to an interactive table.\"\n",
              "              style=\"display:none;\">\n",
              "        \n",
              "  <svg xmlns=\"http://www.w3.org/2000/svg\" height=\"24px\"viewBox=\"0 0 24 24\"\n",
              "       width=\"24px\">\n",
              "    <path d=\"M0 0h24v24H0V0z\" fill=\"none\"/>\n",
              "    <path d=\"M18.56 5.44l.94 2.06.94-2.06 2.06-.94-2.06-.94-.94-2.06-.94 2.06-2.06.94zm-11 1L8.5 8.5l.94-2.06 2.06-.94-2.06-.94L8.5 2.5l-.94 2.06-2.06.94zm10 10l.94 2.06.94-2.06 2.06-.94-2.06-.94-.94-2.06-.94 2.06-2.06.94z\"/><path d=\"M17.41 7.96l-1.37-1.37c-.4-.4-.92-.59-1.43-.59-.52 0-1.04.2-1.43.59L10.3 9.45l-7.72 7.72c-.78.78-.78 2.05 0 2.83L4 21.41c.39.39.9.59 1.41.59.51 0 1.02-.2 1.41-.59l7.78-7.78 2.81-2.81c.8-.78.8-2.07 0-2.86zM5.41 20L4 18.59l7.72-7.72 1.47 1.35L5.41 20z\"/>\n",
              "  </svg>\n",
              "      </button>\n",
              "      \n",
              "  <style>\n",
              "    .colab-df-container {\n",
              "      display:flex;\n",
              "      flex-wrap:wrap;\n",
              "      gap: 12px;\n",
              "    }\n",
              "\n",
              "    .colab-df-convert {\n",
              "      background-color: #E8F0FE;\n",
              "      border: none;\n",
              "      border-radius: 50%;\n",
              "      cursor: pointer;\n",
              "      display: none;\n",
              "      fill: #1967D2;\n",
              "      height: 32px;\n",
              "      padding: 0 0 0 0;\n",
              "      width: 32px;\n",
              "    }\n",
              "\n",
              "    .colab-df-convert:hover {\n",
              "      background-color: #E2EBFA;\n",
              "      box-shadow: 0px 1px 2px rgba(60, 64, 67, 0.3), 0px 1px 3px 1px rgba(60, 64, 67, 0.15);\n",
              "      fill: #174EA6;\n",
              "    }\n",
              "\n",
              "    [theme=dark] .colab-df-convert {\n",
              "      background-color: #3B4455;\n",
              "      fill: #D2E3FC;\n",
              "    }\n",
              "\n",
              "    [theme=dark] .colab-df-convert:hover {\n",
              "      background-color: #434B5C;\n",
              "      box-shadow: 0px 1px 3px 1px rgba(0, 0, 0, 0.15);\n",
              "      filter: drop-shadow(0px 1px 2px rgba(0, 0, 0, 0.3));\n",
              "      fill: #FFFFFF;\n",
              "    }\n",
              "  </style>\n",
              "\n",
              "      <script>\n",
              "        const buttonEl =\n",
              "          document.querySelector('#df-226edd3c-6975-4c0f-b012-0693b4feeba6 button.colab-df-convert');\n",
              "        buttonEl.style.display =\n",
              "          google.colab.kernel.accessAllowed ? 'block' : 'none';\n",
              "\n",
              "        async function convertToInteractive(key) {\n",
              "          const element = document.querySelector('#df-226edd3c-6975-4c0f-b012-0693b4feeba6');\n",
              "          const dataTable =\n",
              "            await google.colab.kernel.invokeFunction('convertToInteractive',\n",
              "                                                     [key], {});\n",
              "          if (!dataTable) return;\n",
              "\n",
              "          const docLinkHtml = 'Like what you see? Visit the ' +\n",
              "            '<a target=\"_blank\" href=https://colab.research.google.com/notebooks/data_table.ipynb>data table notebook</a>'\n",
              "            + ' to learn more about interactive tables.';\n",
              "          element.innerHTML = '';\n",
              "          dataTable['output_type'] = 'display_data';\n",
              "          await google.colab.output.renderOutput(dataTable, element);\n",
              "          const docLink = document.createElement('div');\n",
              "          docLink.innerHTML = docLinkHtml;\n",
              "          element.appendChild(docLink);\n",
              "        }\n",
              "      </script>\n",
              "    </div>\n",
              "  </div>\n",
              "  "
            ]
          },
          "metadata": {},
          "execution_count": 46
        }
      ]
    },
    {
      "cell_type": "markdown",
      "source": [
        "The dataframe above shows that a lot of respondents live in the United States of America (USA). The USA also seems to appear with two names in the list. We will write a modified query that will unify these names. Afterwards, we will print out all other country names sorted alphabetically to check for similar duplicates"
      ],
      "metadata": {
        "id": "PHp09Vu9WFN6"
      }
    },
    {
      "cell_type": "code",
      "source": [
        "respondent_country = pd.read_sql(\"\"\"\n",
        "                                  SELECT\n",
        "                                        CASE\n",
        "                                            WHEN AnswerText = \"United States\" \n",
        "                                            THEN \"United States of America\"\n",
        "                                            ELSE AnswerText\n",
        "                                        END AS country_name, \n",
        "                                        COUNT(DISTINCT UserID) AS no_respondents\n",
        "                                  FROM (SELECT AnswerText, UserID\n",
        "                                        FROM Answer\n",
        "                                        WHERE QuestionID = 3 \n",
        "                                        AND AnswerText IS NOT '-1') \n",
        "                                  GROUP BY country_name\n",
        "                                  ORDER BY no_respondents DESC\n",
        "                                  \"\"\", connection)\n",
        "\n",
        "respondent_country['country_name'].sort_values().values"
      ],
      "metadata": {
        "id": "q6fi6aZG9Fa_",
        "colab": {
          "base_uri": "https://localhost:8080/"
        },
        "outputId": "c8bdc866-225f-411c-e092-de8835e5aec1"
      },
      "execution_count": 47,
      "outputs": [
        {
          "output_type": "execute_result",
          "data": {
            "text/plain": [
              "array(['Afghanistan', 'Algeria', 'Argentina', 'Australia', 'Austria',\n",
              "       'Bahamas, The', 'Bangladesh', 'Belarus', 'Belgium',\n",
              "       'Bosnia and Herzegovina', 'Brazil', 'Brunei', 'Bulgaria', 'Canada',\n",
              "       'Chile', 'China', 'Colombia', 'Costa Rica', 'Croatia',\n",
              "       'Czech Republic', 'Denmark', 'Ecuador', 'Estonia', 'Ethiopia',\n",
              "       'Finland', 'France', 'Georgia', 'Germany', 'Ghana', 'Greece',\n",
              "       'Guatemala', 'Hong Kong', 'Hungary', 'Iceland', 'India',\n",
              "       'Indonesia', 'Iran', 'Ireland', 'Israel', 'Italy', 'Japan',\n",
              "       'Jordan', 'Kenya', 'Latvia', 'Lithuania', 'Macedonia', 'Mauritius',\n",
              "       'Mexico', 'Moldova', 'Netherlands', 'New Zealand', 'Nigeria',\n",
              "       'Norway', 'Other', 'Pakistan', 'Philippines', 'Poland', 'Portugal',\n",
              "       'Romania', 'Russia', 'Saudi Arabia', 'Serbia', 'Singapore',\n",
              "       'Slovakia', 'Slovenia', 'South Africa', 'Spain', 'Sweden',\n",
              "       'Switzerland', 'Taiwan', 'Thailand', 'Turkey', 'Ukraine',\n",
              "       'United Kingdom', 'United States of America', 'Uruguay',\n",
              "       'Venezuela', 'Vietnam', 'Zimbabwe'], dtype=object)"
            ]
          },
          "metadata": {},
          "execution_count": 47
        }
      ]
    },
    {
      "cell_type": "markdown",
      "source": [
        "The number of responses from each country will be illustrated in a geographical map."
      ],
      "metadata": {
        "id": "s5ptGYf70Qf8"
      }
    },
    {
      "cell_type": "code",
      "source": [
        "world_filepath = geopandas.datasets.get_path('naturalearth_lowres')\n",
        "\n",
        "world = geopandas.read_file(world_filepath)\n",
        "world = world[(world.pop_est>0) & (world.name!=\"Antarctica\")]\n",
        "\n",
        "world_map_repondents = world.set_index('name') \\\n",
        "                       .join(respondent_country \\\n",
        "                       .set_index('country_name'))\n",
        "\n",
        "axis = world_map_repondents.plot(column='no_respondents',\n",
        "                                figsize=(15,10), \n",
        "                                cmap='cool',\n",
        "                                missing_kwds={'color': 'lightgrey'},\n",
        "                                legend=True, \n",
        "                                legend_kwds={'label': \"Number of respondents\",\n",
        "                                            'orientation': \"horizontal\"})\n",
        "\n",
        "axis.axis('off');"
      ],
      "metadata": {
        "id": "lFgHKVuRi3Q2",
        "colab": {
          "base_uri": "https://localhost:8080/",
          "height": 522
        },
        "outputId": "296f747d-d4ab-4bbc-e1ae-028b1516951b"
      },
      "execution_count": 48,
      "outputs": [
        {
          "output_type": "display_data",
          "data": {
            "text/plain": [
              "<Figure size 1080x720 with 2 Axes>"
            ],
            "image/png": "[encoded data removed]"
          },
          "metadata": {
            "needs_background": "light"
          }
        }
      ]
    },
    {
      "cell_type": "markdown",
      "source": [
        "We see that the respondents spread across different countries and continents. The following graph represents 10 countries with most the respondents."
      ],
      "metadata": {
        "id": "OT3yTbOYcu2U"
      }
    },
    {
      "cell_type": "code",
      "source": [
        "plt.figure(figsize=(15, 4))\n",
        "\n",
        "axis = sns.barplot(y=respondent_country[\"country_name\"][:10],\n",
        "                   x=respondent_country[\"no_respondents\"][:10],\n",
        "                   orient='h',)\n",
        "\n",
        "sns.despine(bottom=True, left=True)\n",
        "\n",
        "annotate_bars(axis)\n",
        "\n",
        "axis.set_title('10 countries with the largest number of respondents')\n",
        "axis.set_xlabel('Number of respondents')\n",
        "axis.set_ylabel(None)\n",
        "axis.set(xticklabels=[]) \n",
        "axis.grid(False)\n",
        "\n",
        "axis.tick_params(axis='x', bottom=False)"
      ],
      "metadata": {
        "colab": {
          "base_uri": "https://localhost:8080/",
          "height": 285
        },
        "id": "0qP98uWrHD-2",
        "outputId": "d2c2e27f-d308-4e9c-8f74-1283fa137ba2"
      },
      "execution_count": 49,
      "outputs": [
        {
          "output_type": "display_data",
          "data": {
            "text/plain": [
              "<Figure size 1080x288 with 1 Axes>"
            ],
            "image/png": "[encoded data removed]"
          },
          "metadata": {
            "needs_background": "light"
          }
        }
      ]
    },
    {
      "cell_type": "markdown",
      "source": [
        "Most of the people who filled in the survey come from North America, Europe, Australia, India and Brazil."
      ],
      "metadata": {
        "id": "v9edM5KH9Fxm"
      }
    },
    {
      "cell_type": "markdown",
      "source": [
        "## Mental health of survey respondents\n",
        "\n"
      ],
      "metadata": {
        "id": "qqBzkYCV6TIN"
      }
    },
    {
      "cell_type": "markdown",
      "source": [
        "In this section, we will investigate the overall prevalence of mental disorders among repondents and aim to determine the magnitude of the disorders' interference with their work."
      ],
      "metadata": {
        "id": "ijr745Fs-kLZ"
      }
    },
    {
      "cell_type": "markdown",
      "source": [
        "### How many repondents work in technology sector?\n",
        "\n",
        "The database description states that the survey measures the attitudes towards mental health and frequency of mental health disorders in the tech workplace. We will first check whether the respondents indeed work in tech sector by investigating the answers to 2 questions.\n",
        "\n",
        "#### Is your employer primarily a tech company/organization?\n"
      ],
      "metadata": {
        "id": "Rqs6iONybswJ"
      }
    },
    {
      "cell_type": "code",
      "source": [
        "tech_company = pd.read_sql(\"\"\"\n",
        "                            SELECT AnswerText AS answer, \n",
        "                                   COUNT(DISTINCT UserID) AS no_respondents\n",
        "                            FROM (SELECT AnswerText, UserID\n",
        "                                 FROM Answer\n",
        "                                 WHERE QuestionID = 9) \n",
        "                            GROUP BY AnswerText\n",
        "                            ORDER BY no_respondents DESC\n",
        "                            \"\"\", connection)\n",
        "\n",
        "axis = sns.barplot(x=\"no_respondents\",\n",
        "            y=\"answer\",\n",
        "            data=tech_company, color=\"grey\");\n",
        "\n",
        "axis.set(yticklabels=[\"Yes\", \"No\", \"No answer\"])\n",
        "plt.title(\"Employer is a tech company/organization\")\n",
        "plt.xlabel(None)\n",
        "plt.ylabel(None);"
      ],
      "metadata": {
        "colab": {
          "base_uri": "https://localhost:8080/",
          "height": 281
        },
        "id": "tte6s2rYeSzg",
        "outputId": "adeae1b5-e8b8-4cd1-c0be-73c073c3e43b"
      },
      "execution_count": 50,
      "outputs": [
        {
          "output_type": "display_data",
          "data": {
            "text/plain": [
              "<Figure size 432x288 with 1 Axes>"
            ],
            "image/png": "[encoded data removed]"
          },
          "metadata": {
            "needs_background": "light"
          }
        }
      ]
    },
    {
      "cell_type": "markdown",
      "source": [
        "#### Is your primary role within your company related to tech/IT?"
      ],
      "metadata": {
        "id": "_vE1F-ZSgO4A"
      }
    },
    {
      "cell_type": "code",
      "source": [
        "it_role = pd.read_sql(\"\"\"\n",
        "                      SELECT AnswerText AS answer, \n",
        "                              COUNT(DISTINCT UserID) AS no_respondents\n",
        "                      FROM (SELECT AnswerText, UserID\n",
        "                            FROM Answer\n",
        "                            WHERE QuestionID = 31) \n",
        "                      GROUP BY AnswerText\n",
        "                      ORDER BY no_respondents DESC\n",
        "                      \"\"\", connection)\n",
        "\n",
        "axis = sns.barplot(x=\"no_respondents\",\n",
        "            y=\"answer\",\n",
        "            data=it_role, color=\"grey\");\n",
        "\n",
        "axis.set(yticklabels=[\"No answer\", \"Yes\", \"No\", \"Maybe\"])\n",
        "plt.title(\"Respondent role related to tech/IT\")\n",
        "plt.xlabel(None)\n",
        "plt.ylabel(None);"
      ],
      "metadata": {
        "colab": {
          "base_uri": "https://localhost:8080/",
          "height": 281
        },
        "id": "cUNUmiBPfLUm",
        "outputId": "43e9130a-5f16-4ccc-dbdd-b74f0bf6f43c"
      },
      "execution_count": 51,
      "outputs": [
        {
          "output_type": "display_data",
          "data": {
            "text/plain": [
              "<Figure size 432x288 with 1 Axes>"
            ],
            "image/png": "[encoded data removed]"
          },
          "metadata": {
            "needs_background": "light"
          }
        }
      ]
    },
    {
      "cell_type": "markdown",
      "source": [
        "We see that the assumption about survey respondents working in tech sectors is not met fully - some of the respondents seem to not be working in tech companies. Only 482 individuals claimed that their primary role is related to tech/IT. Hence, we will be careful about generalizing the conclusions to the technology sector workers and rather focus on the insights of the survey respondents (regardless of their working field). "
      ],
      "metadata": {
        "id": "qKF1Bkcog2oX"
      }
    },
    {
      "cell_type": "markdown",
      "source": [
        "### How many respondents have mental disorders?"
      ],
      "metadata": {
        "id": "WmzhrRJC6Ve_"
      }
    },
    {
      "cell_type": "markdown",
      "source": [
        "We will use the following 3 questions concerning mental health status to determine the number of health tech professionals that currently has or has had a mental disorder in the past."
      ],
      "metadata": {
        "id": "NQweLmgnFDdd"
      }
    },
    {
      "cell_type": "code",
      "source": [
        "mental_health_questions = pd.read_sql(\"\"\"\n",
        "                                      SELECT * \n",
        "                                      FROM Question\n",
        "                                      WHERE QuestionID IN (32, 33, 34)\n",
        "                                      \"\"\", connection)\n",
        "\n",
        "mental_health_questions.set_index('questionid')"
      ],
      "metadata": {
        "colab": {
          "base_uri": "https://localhost:8080/",
          "height": 174
        },
        "id": "HUC8iuS4FGsy",
        "outputId": "66f6fffb-e395-47c9-fa9c-53e355ce3945"
      },
      "execution_count": 52,
      "outputs": [
        {
          "output_type": "execute_result",
          "data": {
            "text/plain": [
              "                                                 questiontext\n",
              "questionid                                                   \n",
              "32          Have you had a mental health disorder in the p...\n",
              "33            Do you currently have a mental health disorder?\n",
              "34          Have you ever been diagnosed with a mental hea..."
            ],
            "text/html": [
              "\n",
              "  <div id=\"df-07eaefd6-66d6-4d8b-ae2f-66342a2d74a3\">\n",
              "    <div class=\"colab-df-container\">\n",
              "      <div>\n",
              "<style scoped>\n",
              "    .dataframe tbody tr th:only-of-type {\n",
              "        vertical-align: middle;\n",
              "    }\n",
              "\n",
              "    .dataframe tbody tr th {\n",
              "        vertical-align: top;\n",
              "    }\n",
              "\n",
              "    .dataframe thead th {\n",
              "        text-align: right;\n",
              "    }\n",
              "</style>\n",
              "<table border=\"1\" class=\"dataframe\">\n",
              "  <thead>\n",
              "    <tr style=\"text-align: right;\">\n",
              "      <th></th>\n",
              "      <th>questiontext</th>\n",
              "    </tr>\n",
              "    <tr>\n",
              "      <th>questionid</th>\n",
              "      <th></th>\n",
              "    </tr>\n",
              "  </thead>\n",
              "  <tbody>\n",
              "    <tr>\n",
              "      <th>32</th>\n",
              "      <td>Have you had a mental health disorder in the p...</td>\n",
              "    </tr>\n",
              "    <tr>\n",
              "      <th>33</th>\n",
              "      <td>Do you currently have a mental health disorder?</td>\n",
              "    </tr>\n",
              "    <tr>\n",
              "      <th>34</th>\n",
              "      <td>Have you ever been diagnosed with a mental hea...</td>\n",
              "    </tr>\n",
              "  </tbody>\n",
              "</table>\n",
              "</div>\n",
              "      <button class=\"colab-df-convert\" onclick=\"convertToInteractive('df-07eaefd6-66d6-4d8b-ae2f-66342a2d74a3')\"\n",
              "              title=\"Convert this dataframe to an interactive table.\"\n",
              "              style=\"display:none;\">\n",
              "        \n",
              "  <svg xmlns=\"http://www.w3.org/2000/svg\" height=\"24px\"viewBox=\"0 0 24 24\"\n",
              "       width=\"24px\">\n",
              "    <path d=\"M0 0h24v24H0V0z\" fill=\"none\"/>\n",
              "    <path d=\"M18.56 5.44l.94 2.06.94-2.06 2.06-.94-2.06-.94-.94-2.06-.94 2.06-2.06.94zm-11 1L8.5 8.5l.94-2.06 2.06-.94-2.06-.94L8.5 2.5l-.94 2.06-2.06.94zm10 10l.94 2.06.94-2.06 2.06-.94-2.06-.94-.94-2.06-.94 2.06-2.06.94z\"/><path d=\"M17.41 7.96l-1.37-1.37c-.4-.4-.92-.59-1.43-.59-.52 0-1.04.2-1.43.59L10.3 9.45l-7.72 7.72c-.78.78-.78 2.05 0 2.83L4 21.41c.39.39.9.59 1.41.59.51 0 1.02-.2 1.41-.59l7.78-7.78 2.81-2.81c.8-.78.8-2.07 0-2.86zM5.41 20L4 18.59l7.72-7.72 1.47 1.35L5.41 20z\"/>\n",
              "  </svg>\n",
              "      </button>\n",
              "      \n",
              "  <style>\n",
              "    .colab-df-container {\n",
              "      display:flex;\n",
              "      flex-wrap:wrap;\n",
              "      gap: 12px;\n",
              "    }\n",
              "\n",
              "    .colab-df-convert {\n",
              "      background-color: #E8F0FE;\n",
              "      border: none;\n",
              "      border-radius: 50%;\n",
              "      cursor: pointer;\n",
              "      display: none;\n",
              "      fill: #1967D2;\n",
              "      height: 32px;\n",
              "      padding: 0 0 0 0;\n",
              "      width: 32px;\n",
              "    }\n",
              "\n",
              "    .colab-df-convert:hover {\n",
              "      background-color: #E2EBFA;\n",
              "      box-shadow: 0px 1px 2px rgba(60, 64, 67, 0.3), 0px 1px 3px 1px rgba(60, 64, 67, 0.15);\n",
              "      fill: #174EA6;\n",
              "    }\n",
              "\n",
              "    [theme=dark] .colab-df-convert {\n",
              "      background-color: #3B4455;\n",
              "      fill: #D2E3FC;\n",
              "    }\n",
              "\n",
              "    [theme=dark] .colab-df-convert:hover {\n",
              "      background-color: #434B5C;\n",
              "      box-shadow: 0px 1px 3px 1px rgba(0, 0, 0, 0.15);\n",
              "      filter: drop-shadow(0px 1px 2px rgba(0, 0, 0, 0.3));\n",
              "      fill: #FFFFFF;\n",
              "    }\n",
              "  </style>\n",
              "\n",
              "      <script>\n",
              "        const buttonEl =\n",
              "          document.querySelector('#df-07eaefd6-66d6-4d8b-ae2f-66342a2d74a3 button.colab-df-convert');\n",
              "        buttonEl.style.display =\n",
              "          google.colab.kernel.accessAllowed ? 'block' : 'none';\n",
              "\n",
              "        async function convertToInteractive(key) {\n",
              "          const element = document.querySelector('#df-07eaefd6-66d6-4d8b-ae2f-66342a2d74a3');\n",
              "          const dataTable =\n",
              "            await google.colab.kernel.invokeFunction('convertToInteractive',\n",
              "                                                     [key], {});\n",
              "          if (!dataTable) return;\n",
              "\n",
              "          const docLinkHtml = 'Like what you see? Visit the ' +\n",
              "            '<a target=\"_blank\" href=https://colab.research.google.com/notebooks/data_table.ipynb>data table notebook</a>'\n",
              "            + ' to learn more about interactive tables.';\n",
              "          element.innerHTML = '';\n",
              "          dataTable['output_type'] = 'display_data';\n",
              "          await google.colab.output.renderOutput(dataTable, element);\n",
              "          const docLink = document.createElement('div');\n",
              "          docLink.innerHTML = docLinkHtml;\n",
              "          element.appendChild(docLink);\n",
              "        }\n",
              "      </script>\n",
              "    </div>\n",
              "  </div>\n",
              "  "
            ]
          },
          "metadata": {},
          "execution_count": 52
        }
      ]
    },
    {
      "cell_type": "markdown",
      "source": [
        "Next, we will represent the proportion of answers to these questions."
      ],
      "metadata": {
        "id": "1GMJX1IfDY9N"
      }
    },
    {
      "cell_type": "code",
      "source": [
        "#@title Derive and plot answer about mental disorder status\n",
        "past_mental_disorders = pd.read_sql(\"\"\"\n",
        "                                    SELECT AnswerText AS answer, \n",
        "                                           COUNT(DISTINCT UserID) AS count_past\n",
        "                                    FROM (SELECT AnswerText, UserID\n",
        "                                          FROM Answer\n",
        "                                          WHERE QuestionID = 32 \n",
        "                                          AND AnswerText IS NOT '-1') \n",
        "                                    GROUP BY answer\n",
        "                                    \"\"\", connection)\n",
        "\n",
        "current_mental_disorders = pd.read_sql(\"\"\"\n",
        "                                      SELECT AnswerText AS answer, \n",
        "                                             COUNT(DISTINCT UserID) \n",
        "                                             AS count_current\n",
        "                                      FROM (SELECT AnswerText, UserID\n",
        "                                            FROM Answer\n",
        "                                            WHERE QuestionID = 33 \n",
        "                                            AND AnswerText IS NOT '-1') \n",
        "                                      GROUP BY answer\n",
        "                                      \"\"\", connection)\n",
        "\n",
        "diagnosed_mental_disorders = pd.read_sql(\"\"\"\n",
        "                                        SELECT AnswerText AS answer, \n",
        "                                               COUNT(DISTINCT UserID) \n",
        "                                               AS count_diagnosed\n",
        "                                        FROM(SELECT AnswerText, UserID\n",
        "                                             FROM Answer\n",
        "                                             WHERE QuestionID = 34 \n",
        "                                             AND AnswerText IS NOT '-1') \n",
        "                                        GROUP BY answer\n",
        "                                        \"\"\", connection)\n",
        "\n",
        "disorder_status = past_mental_disorders \\\n",
        "                  .merge(current_mental_disorders, on='answer', how='left') \\\n",
        "                  .merge(diagnosed_mental_disorders, on='answer', how='left') \\\n",
        "                  .set_index('answer') \\\n",
        "                  .fillna(0) \\\n",
        "                  .astype('int')\n",
        "\n",
        "axes = disorder_status.plot(kind='pie',\n",
        "                            figsize=(20, 18),\n",
        "                            subplots=True,\n",
        "                            pctdistance=0.7,\n",
        "                            autopct=show_nonzero, legend=False);\n",
        "\n",
        "for axis in axes:\n",
        "  axis.get_yaxis().set_visible(False);\n",
        "\n",
        "axes[0].set_title(\"Have you had a mental health disorder in the past?\");\n",
        "axes[1].set_title(\"Do you currently have a mental health disorder?\");\n",
        "axes[2].set_title(\"Have you ever been diagnosed with a mental health disorder?\");"
      ],
      "metadata": {
        "colab": {
          "base_uri": "https://localhost:8080/",
          "height": 375
        },
        "id": "O88uYV63Flly",
        "outputId": "018ad561-2eae-45af-b928-c792f48999a0",
        "cellView": "form"
      },
      "execution_count": 53,
      "outputs": [
        {
          "output_type": "display_data",
          "data": {
            "text/plain": [
              "<Figure size 1440x1296 with 3 Axes>"
            ],
            "image/png": "[encoded data removed]"
          },
          "metadata": {}
        }
      ]
    },
    {
      "cell_type": "markdown",
      "source": [
        "We see that proportion of people who have reported having mental problems is more than 41.8%. Even more (65%) reported having been diagnosed having a mental disorder in the past. These numbers are higher in comparison to the general population. Globally, [11-18%](https://ourworldindata.org/global-mental-health) of people have one or more mental disorders."
      ],
      "metadata": {
        "id": "fc11V-yXjAXy"
      }
    },
    {
      "cell_type": "markdown",
      "source": [
        "### Mental well-being factors"
      ],
      "metadata": {
        "id": "OwxI9eu4dgtF"
      }
    },
    {
      "cell_type": "markdown",
      "source": [
        "Mental well-being can be influenced by many factors. We will investigate some of them aiming to get some insights about what makes the tech professionals more or less prone to getting a mental disorder."
      ],
      "metadata": {
        "id": "VB8SVWrSdmpp"
      }
    },
    {
      "cell_type": "markdown",
      "source": [
        "#### Age"
      ],
      "metadata": {
        "id": "Wd1AhVAVeAAb"
      }
    },
    {
      "cell_type": "markdown",
      "source": [
        "We are interested in how the number of people who have/had mental disorder are distributed across different age groups. For this analysis, the answers to the previous questions will be grouped into 2 categories: *yes*, *no/uncertain*. The first group will encompass only *yes* answers and the second will merge other answers, such as *no, maybe, possibly.*"
      ],
      "metadata": {
        "id": "nCD4tkoPd3of"
      }
    },
    {
      "cell_type": "code",
      "source": [
        "#@title Derive and plot mental disorder status in different age groups \n",
        "mental_disorder_age = pd.read_sql(\"\"\"\n",
        "                                  WITH respondent_age AS\n",
        "                                      (SELECT UserID as ID, \n",
        "                                              CAST(AnswerText AS int) As age\n",
        "                                      FROM Answer\n",
        "                                      WHERE QuestionID = 1 \n",
        "                                      AND Age >= 18 \n",
        "                                      AND Age <= 70)\n",
        "\n",
        "                                  SELECT *,\n",
        "                                      SUM (CASE WHEN AnswerText = 'Yes' THEN 1\n",
        "                                          ELSE 0 \n",
        "                                          END) AS yes_answer_counts, \n",
        "                                     (CASE\n",
        "                                          WHEN age > 15 \n",
        "                                          AND age <= 20 THEN '16-20 years'\n",
        "                                          WHEN age > 20 \n",
        "                                          AND age <= 25 THEN '21-25 years'\n",
        "                                          WHEN age > 25 \n",
        "                                          AND age <= 30 THEN '26-30 years'\n",
        "                                          WHEN age > 30 \n",
        "                                          AND age <= 35 THEN '31-35 years'\n",
        "                                          WHEN age > 25 \n",
        "                                          AND age <= 40 THEN '36-40 years'\n",
        "                                          WHEN age > 40 \n",
        "                                          AND age <= 45 THEN '41-45 years'\n",
        "                                          WHEN age > 45 \n",
        "                                          AND age <= 50 THEN '46-50 years'\n",
        "                                          WHEN age > 50 \n",
        "                                          AND age <= 55 THEN '51-55 years'\n",
        "                                          WHEN age > 55 \n",
        "                                          AND age <= 60 THEN '56-60 years'\n",
        "                                          WHEN age > 60 \n",
        "                                          AND age <= 65 THEN '61-65 years'\n",
        "                                          WHEN age > 65 \n",
        "                                          AND age <= 70 THEN '66-70 years'\n",
        "                                      END) AS age_group\n",
        "                                  FROM Answer\n",
        "                                  JOIN respondent_age\n",
        "                                  ON Answer.UserID = respondent_age.ID\n",
        "                                  WHERE QuestionID IN (32, 33, 34) \n",
        "                                  AND AnswerText IS NOT '-1'\n",
        "                                  GROUP BY respondent_age.ID\n",
        "                                  \"\"\", connection)\n",
        "\n",
        "yes_mask = mental_disorder_age['yes_answer_counts'] > 0\n",
        "mental_disorder_age.loc[yes_mask, 'yes'] = 1\n",
        "mental_disorder_age.loc[~yes_mask, 'no/uncertain'] = 1\n",
        "mental_disorder_age[['age_group', 'yes', 'no/uncertain']] \\\n",
        "                     .fillna(0) \\\n",
        "                     .groupby('age_group') \\\n",
        "                     .sum() \\\n",
        "                     .plot(kind='bar', \n",
        "                           stacked=True, \n",
        "                           rot=0, \n",
        "                           figsize=(15,6));\n",
        "\n",
        "plt.title(\"Mental disorder status in age groups\")\n",
        "plt.xlabel(None);"
      ],
      "metadata": {
        "colab": {
          "base_uri": "https://localhost:8080/",
          "height": 390
        },
        "id": "72JLVe7t6Uri",
        "outputId": "f764248a-1bb6-49da-d23b-527a242a8cfe",
        "cellView": "form"
      },
      "execution_count": 54,
      "outputs": [
        {
          "output_type": "display_data",
          "data": {
            "text/plain": [
              "<Figure size 1080x432 with 1 Axes>"
            ],
            "image/png": "[encoded data removed]"
          },
          "metadata": {
            "needs_background": "light"
          }
        }
      ]
    },
    {
      "cell_type": "markdown",
      "source": [
        "The proportion of people who have or had the disorder at some point of their life tends to get higher with age.  "
      ],
      "metadata": {
        "id": "XPccW11RR---"
      }
    },
    {
      "cell_type": "markdown",
      "source": [
        "#### Company size"
      ],
      "metadata": {
        "id": "Oh9XXa9VfOe2"
      }
    },
    {
      "cell_type": "markdown",
      "source": [
        "Company size might also be an important factor for mental well-being. For example, due to the high number of people, larger companies might fail to notice and support employees struggling with mental health. On the other hand, smaller companies may not have the well-established infrastructure to help the employees with mental issues.\n",
        "\n",
        "We will look at the mental disorder status in companies of different sizes."
      ],
      "metadata": {
        "id": "rys8XsWueMIz"
      }
    },
    {
      "cell_type": "code",
      "source": [
        "company_size = pd.read_sql(\"\"\"\n",
        "                          WITH company_size AS \n",
        "                              (SELECT AnswerText AS answer, UserID AS ID\n",
        "                              FROM Answer\n",
        "                              WHERE QuestionID = 8 \n",
        "                              AND AnswerText IS NOT \"-1\")\n",
        "\n",
        "                          SELECT answer, \n",
        "                                 COUNT(DISTINCT UserID) AS have_mental_disorder\n",
        "                          FROM Answer\n",
        "                          JOIN company_size\n",
        "                          ON Answer.UserID = company_size.ID\n",
        "                          WHERE QuestionID = 33 \n",
        "                          AND AnswerText IS \"Yes\" \n",
        "                          AND AnswerText IS NOT \"-1\"\n",
        "                          GROUP BY answer\n",
        "                          ORDER BY answer\n",
        "                          \"\"\", connection)\n",
        "\n",
        "size_range = [\"1-5\", \"6-25\", \"26-100\", \"100-500\" , \"500-1000\", \"More than 1000\"]\n",
        "company_size[\"answer\"]= pd.Categorical(company_size[\"answer\"], size_range)\n",
        "\n",
        "plt.figure(figsize=(7, 5))\n",
        "sns.scatterplot(x=\"answer\", \n",
        "                y=\"have_mental_disorder\", \n",
        "                data=company_size, \n",
        "                marker=\"v\", \n",
        "                s=150)\n",
        "\n",
        "plt.title(\"Number respondents with mental disorder in different size companies\")\n",
        "plt.xlabel(\"company size\");\n",
        "plt.ylabel(None);"
      ],
      "metadata": {
        "id": "Wc38npXEtImj",
        "colab": {
          "base_uri": "https://localhost:8080/",
          "height": 350
        },
        "outputId": "d764cfd4-5043-4fc4-8927-a563d5781043"
      },
      "execution_count": 55,
      "outputs": [
        {
          "output_type": "display_data",
          "data": {
            "text/plain": [
              "<Figure size 504x360 with 1 Axes>"
            ],
            "image/png": "[encoded data removed]"
          },
          "metadata": {
            "needs_background": "light"
          }
        }
      ]
    },
    {
      "cell_type": "markdown",
      "source": [
        "With an exception of companies having 500-1000 employees, the number of people who reported currently having a mental health disorder seems to increase together with increasing company size."
      ],
      "metadata": {
        "id": "MyZJUizNkjqG"
      }
    },
    {
      "cell_type": "markdown",
      "source": [
        "## Mental disorder interference with work"
      ],
      "metadata": {
        "id": "loisv9FfdS2k"
      }
    },
    {
      "cell_type": "markdown",
      "source": [
        "Using the following questions we will investigate whether and to which extent mental disorder interferes with the tech professionals' work."
      ],
      "metadata": {
        "id": "EKnD5jS9SsEG"
      }
    },
    {
      "cell_type": "code",
      "source": [
        "interference_questions = pd.read_sql(\"\"\"\n",
        "                                    SELECT * \n",
        "                                    FROM Question\n",
        "                                    WHERE QuestionID IN (48, 49, 54, 55)\n",
        "                                    \"\"\", connection)\n",
        "\n",
        "interference_questions.set_index('questionid')"
      ],
      "metadata": {
        "colab": {
          "base_uri": "https://localhost:8080/",
          "height": 206
        },
        "id": "l3W-gwYlhYTx",
        "outputId": "9627d5ad-4f4c-4ec7-deca-2a9403358732"
      },
      "execution_count": 56,
      "outputs": [
        {
          "output_type": "execute_result",
          "data": {
            "text/plain": [
              "                                                 questiontext\n",
              "questionid                                                   \n",
              "48          If you have a mental health disorder, how ofte...\n",
              "49          If you have a mental health disorder, how ofte...\n",
              "54          Do you believe your productivity is ever affec...\n",
              "55          If yes, what percentage of your work time (tim..."
            ],
            "text/html": [
              "\n",
              "  <div id=\"df-66b0e2e4-65a4-4afa-b145-30e8e1e2364a\">\n",
              "    <div class=\"colab-df-container\">\n",
              "      <div>\n",
              "<style scoped>\n",
              "    .dataframe tbody tr th:only-of-type {\n",
              "        vertical-align: middle;\n",
              "    }\n",
              "\n",
              "    .dataframe tbody tr th {\n",
              "        vertical-align: top;\n",
              "    }\n",
              "\n",
              "    .dataframe thead th {\n",
              "        text-align: right;\n",
              "    }\n",
              "</style>\n",
              "<table border=\"1\" class=\"dataframe\">\n",
              "  <thead>\n",
              "    <tr style=\"text-align: right;\">\n",
              "      <th></th>\n",
              "      <th>questiontext</th>\n",
              "    </tr>\n",
              "    <tr>\n",
              "      <th>questionid</th>\n",
              "      <th></th>\n",
              "    </tr>\n",
              "  </thead>\n",
              "  <tbody>\n",
              "    <tr>\n",
              "      <th>48</th>\n",
              "      <td>If you have a mental health disorder, how ofte...</td>\n",
              "    </tr>\n",
              "    <tr>\n",
              "      <th>49</th>\n",
              "      <td>If you have a mental health disorder, how ofte...</td>\n",
              "    </tr>\n",
              "    <tr>\n",
              "      <th>54</th>\n",
              "      <td>Do you believe your productivity is ever affec...</td>\n",
              "    </tr>\n",
              "    <tr>\n",
              "      <th>55</th>\n",
              "      <td>If yes, what percentage of your work time (tim...</td>\n",
              "    </tr>\n",
              "  </tbody>\n",
              "</table>\n",
              "</div>\n",
              "      <button class=\"colab-df-convert\" onclick=\"convertToInteractive('df-66b0e2e4-65a4-4afa-b145-30e8e1e2364a')\"\n",
              "              title=\"Convert this dataframe to an interactive table.\"\n",
              "              style=\"display:none;\">\n",
              "        \n",
              "  <svg xmlns=\"http://www.w3.org/2000/svg\" height=\"24px\"viewBox=\"0 0 24 24\"\n",
              "       width=\"24px\">\n",
              "    <path d=\"M0 0h24v24H0V0z\" fill=\"none\"/>\n",
              "    <path d=\"M18.56 5.44l.94 2.06.94-2.06 2.06-.94-2.06-.94-.94-2.06-.94 2.06-2.06.94zm-11 1L8.5 8.5l.94-2.06 2.06-.94-2.06-.94L8.5 2.5l-.94 2.06-2.06.94zm10 10l.94 2.06.94-2.06 2.06-.94-2.06-.94-.94-2.06-.94 2.06-2.06.94z\"/><path d=\"M17.41 7.96l-1.37-1.37c-.4-.4-.92-.59-1.43-.59-.52 0-1.04.2-1.43.59L10.3 9.45l-7.72 7.72c-.78.78-.78 2.05 0 2.83L4 21.41c.39.39.9.59 1.41.59.51 0 1.02-.2 1.41-.59l7.78-7.78 2.81-2.81c.8-.78.8-2.07 0-2.86zM5.41 20L4 18.59l7.72-7.72 1.47 1.35L5.41 20z\"/>\n",
              "  </svg>\n",
              "      </button>\n",
              "      \n",
              "  <style>\n",
              "    .colab-df-container {\n",
              "      display:flex;\n",
              "      flex-wrap:wrap;\n",
              "      gap: 12px;\n",
              "    }\n",
              "\n",
              "    .colab-df-convert {\n",
              "      background-color: #E8F0FE;\n",
              "      border: none;\n",
              "      border-radius: 50%;\n",
              "      cursor: pointer;\n",
              "      display: none;\n",
              "      fill: #1967D2;\n",
              "      height: 32px;\n",
              "      padding: 0 0 0 0;\n",
              "      width: 32px;\n",
              "    }\n",
              "\n",
              "    .colab-df-convert:hover {\n",
              "      background-color: #E2EBFA;\n",
              "      box-shadow: 0px 1px 2px rgba(60, 64, 67, 0.3), 0px 1px 3px 1px rgba(60, 64, 67, 0.15);\n",
              "      fill: #174EA6;\n",
              "    }\n",
              "\n",
              "    [theme=dark] .colab-df-convert {\n",
              "      background-color: #3B4455;\n",
              "      fill: #D2E3FC;\n",
              "    }\n",
              "\n",
              "    [theme=dark] .colab-df-convert:hover {\n",
              "      background-color: #434B5C;\n",
              "      box-shadow: 0px 1px 3px 1px rgba(0, 0, 0, 0.15);\n",
              "      filter: drop-shadow(0px 1px 2px rgba(0, 0, 0, 0.3));\n",
              "      fill: #FFFFFF;\n",
              "    }\n",
              "  </style>\n",
              "\n",
              "      <script>\n",
              "        const buttonEl =\n",
              "          document.querySelector('#df-66b0e2e4-65a4-4afa-b145-30e8e1e2364a button.colab-df-convert');\n",
              "        buttonEl.style.display =\n",
              "          google.colab.kernel.accessAllowed ? 'block' : 'none';\n",
              "\n",
              "        async function convertToInteractive(key) {\n",
              "          const element = document.querySelector('#df-66b0e2e4-65a4-4afa-b145-30e8e1e2364a');\n",
              "          const dataTable =\n",
              "            await google.colab.kernel.invokeFunction('convertToInteractive',\n",
              "                                                     [key], {});\n",
              "          if (!dataTable) return;\n",
              "\n",
              "          const docLinkHtml = 'Like what you see? Visit the ' +\n",
              "            '<a target=\"_blank\" href=https://colab.research.google.com/notebooks/data_table.ipynb>data table notebook</a>'\n",
              "            + ' to learn more about interactive tables.';\n",
              "          element.innerHTML = '';\n",
              "          dataTable['output_type'] = 'display_data';\n",
              "          await google.colab.output.renderOutput(dataTable, element);\n",
              "          const docLink = document.createElement('div');\n",
              "          docLink.innerHTML = docLinkHtml;\n",
              "          element.appendChild(docLink);\n",
              "        }\n",
              "      </script>\n",
              "    </div>\n",
              "  </div>\n",
              "  "
            ]
          },
          "metadata": {},
          "execution_count": 56
        }
      ]
    },
    {
      "cell_type": "markdown",
      "source": [
        "The following graphs summarize the answers of those who found the question about mental disorder interference applicable to them. "
      ],
      "metadata": {
        "id": "itCZKKrarrQm"
      }
    },
    {
      "cell_type": "code",
      "source": [
        "#@title Derive and plot answer about mental disorder and work interference\n",
        "productivity = pd.read_sql(\"\"\"\n",
        "                          SELECT AnswerText AS answer, \n",
        "                                 COUNT(DISTINCT UserID) AS no_respondents\n",
        "                          FROM (SELECT AnswerText, UserID, QuestionID\n",
        "                                FROM Answer\n",
        "                                WHERE QuestionID=54 \n",
        "                                AND AnswerText IS NOT \"-1\" \n",
        "                                AND AnswerText IS NOT \"Not applicable to me\") \n",
        "                          GROUP BY answer, QuestionID\n",
        "                          \"\"\", connection)\n",
        "\n",
        "productivity_percentage = pd.read_sql(\"\"\"\n",
        "                                      SELECT AnswerText AS answer,\n",
        "                                             COUNT(DISTINCT UserID) \n",
        "                                             AS no_respondents\n",
        "                                      FROM (SELECT AnswerText, UserID, QuestionID\n",
        "                                            FROM Answer\n",
        "                                            WHERE QuestionID=55 \n",
        "                                            AND AnswerText IS NOT \"-1\" \n",
        "                                            AND AnswerText IS NOT \n",
        "                                            \"Not applicable to me\") \n",
        "                                      GROUP BY answer, QuestionID\n",
        "                                      \"\"\", connection)\n",
        "\n",
        "productivity.set_index('answer', inplace=True)\n",
        "\n",
        "axis0 = productivity.T.plot.barh(stacked=True, figsize=(10,2))\n",
        "axis0.set_title(\"Do you believe your productivity is ever affected\\\n",
        "                by a mental health issue?\")\n",
        "\n",
        "axis0.set_xlabel(\"Number of respondents\");\n",
        "axis0.set(yticklabels=[])\n",
        "axis0.tick_params(axis='y', left=False)\n",
        "axis0.legend(bbox_to_anchor=(1.04,0.5), loc=\"center left\")\n",
        "\n",
        "axis1 = productivity_percentage \\\n",
        "       .set_index(\"answer\") \\\n",
        "       .plot(kind=\"bar\", \n",
        "             stacked=True, \n",
        "             rot=0, \n",
        "             figsize=(9, 5), \n",
        "             legend=False, \n",
        "             color=\"grey\");\n",
        "             \n",
        "axis1.set_title(\"What percentage of your work time is affected by a mental\\\n",
        " health issue?\");\n",
        " \n",
        "axis1.set_xlabel(None);"
      ],
      "metadata": {
        "colab": {
          "base_uri": "https://localhost:8080/",
          "height": 506
        },
        "id": "cPrpLpJgql_S",
        "outputId": "53b06619-afc3-4892-9339-d780115f48b4",
        "cellView": "form"
      },
      "execution_count": 57,
      "outputs": [
        {
          "output_type": "display_data",
          "data": {
            "text/plain": [
              "<Figure size 720x144 with 1 Axes>"
            ],
            "image/png": "[encoded data removed]"
          },
          "metadata": {
            "needs_background": "light"
          }
        },
        {
          "output_type": "display_data",
          "data": {
            "text/plain": [
              "<Figure size 648x360 with 1 Axes>"
            ],
            "image/png": "[encoded data removed]"
          },
          "metadata": {
            "needs_background": "light"
          }
        }
      ]
    },
    {
      "cell_type": "markdown",
      "source": [
        "The majority of respondents believe that their productivity is affected by the mental disorder. Most of them report that it affects less than 25% of their work time.\n",
        "\n",
        "Furthermore, the mental disorder's effects could vary based on how well it is treated or managed. We will look at questions 48 and 49 to investigate this further."
      ],
      "metadata": {
        "id": "GM4p4x67W_Y6"
      }
    },
    {
      "cell_type": "code",
      "source": [
        "interference_treatment = pd.read_sql(\"\"\"\n",
        "                                    SELECT AnswerText AS answer, \n",
        "                                           COUNT(DISTINCT UserID)\n",
        "                                           AS no_respondents, QuestionID\n",
        "                                    FROM (SELECT AnswerText, UserID, QuestionID\n",
        "                                          FROM Answer\n",
        "                                          WHERE QuestionID IN (48, 49) \n",
        "                                          AND AnswerText IS NOT \"-1\" \n",
        "                                          AND AnswerText NOT LIKE \"%applicable%\")\n",
        "                                    GROUP BY answer, QuestionID\n",
        "                                    \"\"\", connection)\n",
        "\n",
        "interference = pd.pivot_table(interference_treatment,\n",
        "                              values=\"no_respondents\",\n",
        "                              index=\"QuestionID\",\n",
        "                              columns=\"answer\")\n",
        "\n",
        "axis = interference.plot.barh(rot=0, figsize=(10, 4));\n",
        "\n",
        "plt.title(\"How often does the mental disorder interferes with your work?\") \n",
        "axis.set_yticklabels([\"When treated effectively\",\n",
        "                      \"When not treated effectively\"]);\n",
        "axis.set(ylabel=None);"
      ],
      "metadata": {
        "colab": {
          "base_uri": "https://localhost:8080/",
          "height": 281
        },
        "id": "-2D7zz4mNTbN",
        "outputId": "f197dc3b-d5a5-4e98-98fe-894255cd2425"
      },
      "execution_count": 58,
      "outputs": [
        {
          "output_type": "display_data",
          "data": {
            "text/plain": [
              "<Figure size 720x288 with 1 Axes>"
            ],
            "image/png": "[encoded data removed]"
          },
          "metadata": {
            "needs_background": "light"
          }
        }
      ]
    },
    {
      "cell_type": "markdown",
      "source": [
        "We see that when treated effectively, for most of the respondents the disorder tends to interfere with their work only sometimes. When not treated properly, respondents find their work to be affected more often.   \n",
        "\n",
        "Collectively, these answers emphasise the importance of acknowledging the mental disorder and taking actions for managing it to support productivity at work. In the next section, we will analyze whether and how this support is facilitated by the employers."
      ],
      "metadata": {
        "id": "8rqdnQY9XtAH"
      }
    },
    {
      "cell_type": "markdown",
      "source": [
        "## Employer support and attitude\n",
        "\n"
      ],
      "metadata": {
        "id": "6OvRbeDvs48b"
      }
    },
    {
      "cell_type": "markdown",
      "source": [
        "Some of the questions in the questionnaire measure the support for mental health provided by the employer."
      ],
      "metadata": {
        "id": "8Zhb7ReHw7QR"
      }
    },
    {
      "cell_type": "code",
      "source": [
        "interference_questions = pd.read_sql(\"\"\"\n",
        "                                    SELECT * \n",
        "                                    FROM Question\n",
        "                                    WHERE QuestionID IN (10, 16, 17, 50, 64, 65)\n",
        "                                    \"\"\", connection)\n",
        "\n",
        "interference_questions.set_index(\"questionid\")"
      ],
      "metadata": {
        "colab": {
          "base_uri": "https://localhost:8080/",
          "height": 268
        },
        "id": "XP93bgzHazFC",
        "outputId": "2e926e56-5aed-4b9a-d2d1-8998be897c49"
      },
      "execution_count": 59,
      "outputs": [
        {
          "output_type": "execute_result",
          "data": {
            "text/plain": [
              "                                                 questiontext\n",
              "questionid                                                   \n",
              "10          Does your employer provide mental health benef...\n",
              "16          Does your employer offer resources to learn mo...\n",
              "17          If a mental health issue prompted you to reque...\n",
              "50                               What country do you work in?\n",
              "64          Overall, how much importance does your employe...\n",
              "65          Overall, how much importance does your employe..."
            ],
            "text/html": [
              "\n",
              "  <div id=\"df-d3dcb03f-1dca-47d3-aed0-c08871d12290\">\n",
              "    <div class=\"colab-df-container\">\n",
              "      <div>\n",
              "<style scoped>\n",
              "    .dataframe tbody tr th:only-of-type {\n",
              "        vertical-align: middle;\n",
              "    }\n",
              "\n",
              "    .dataframe tbody tr th {\n",
              "        vertical-align: top;\n",
              "    }\n",
              "\n",
              "    .dataframe thead th {\n",
              "        text-align: right;\n",
              "    }\n",
              "</style>\n",
              "<table border=\"1\" class=\"dataframe\">\n",
              "  <thead>\n",
              "    <tr style=\"text-align: right;\">\n",
              "      <th></th>\n",
              "      <th>questiontext</th>\n",
              "    </tr>\n",
              "    <tr>\n",
              "      <th>questionid</th>\n",
              "      <th></th>\n",
              "    </tr>\n",
              "  </thead>\n",
              "  <tbody>\n",
              "    <tr>\n",
              "      <th>10</th>\n",
              "      <td>Does your employer provide mental health benef...</td>\n",
              "    </tr>\n",
              "    <tr>\n",
              "      <th>16</th>\n",
              "      <td>Does your employer offer resources to learn mo...</td>\n",
              "    </tr>\n",
              "    <tr>\n",
              "      <th>17</th>\n",
              "      <td>If a mental health issue prompted you to reque...</td>\n",
              "    </tr>\n",
              "    <tr>\n",
              "      <th>50</th>\n",
              "      <td>What country do you work in?</td>\n",
              "    </tr>\n",
              "    <tr>\n",
              "      <th>64</th>\n",
              "      <td>Overall, how much importance does your employe...</td>\n",
              "    </tr>\n",
              "    <tr>\n",
              "      <th>65</th>\n",
              "      <td>Overall, how much importance does your employe...</td>\n",
              "    </tr>\n",
              "  </tbody>\n",
              "</table>\n",
              "</div>\n",
              "      <button class=\"colab-df-convert\" onclick=\"convertToInteractive('df-d3dcb03f-1dca-47d3-aed0-c08871d12290')\"\n",
              "              title=\"Convert this dataframe to an interactive table.\"\n",
              "              style=\"display:none;\">\n",
              "        \n",
              "  <svg xmlns=\"http://www.w3.org/2000/svg\" height=\"24px\"viewBox=\"0 0 24 24\"\n",
              "       width=\"24px\">\n",
              "    <path d=\"M0 0h24v24H0V0z\" fill=\"none\"/>\n",
              "    <path d=\"M18.56 5.44l.94 2.06.94-2.06 2.06-.94-2.06-.94-.94-2.06-.94 2.06-2.06.94zm-11 1L8.5 8.5l.94-2.06 2.06-.94-2.06-.94L8.5 2.5l-.94 2.06-2.06.94zm10 10l.94 2.06.94-2.06 2.06-.94-2.06-.94-.94-2.06-.94 2.06-2.06.94z\"/><path d=\"M17.41 7.96l-1.37-1.37c-.4-.4-.92-.59-1.43-.59-.52 0-1.04.2-1.43.59L10.3 9.45l-7.72 7.72c-.78.78-.78 2.05 0 2.83L4 21.41c.39.39.9.59 1.41.59.51 0 1.02-.2 1.41-.59l7.78-7.78 2.81-2.81c.8-.78.8-2.07 0-2.86zM5.41 20L4 18.59l7.72-7.72 1.47 1.35L5.41 20z\"/>\n",
              "  </svg>\n",
              "      </button>\n",
              "      \n",
              "  <style>\n",
              "    .colab-df-container {\n",
              "      display:flex;\n",
              "      flex-wrap:wrap;\n",
              "      gap: 12px;\n",
              "    }\n",
              "\n",
              "    .colab-df-convert {\n",
              "      background-color: #E8F0FE;\n",
              "      border: none;\n",
              "      border-radius: 50%;\n",
              "      cursor: pointer;\n",
              "      display: none;\n",
              "      fill: #1967D2;\n",
              "      height: 32px;\n",
              "      padding: 0 0 0 0;\n",
              "      width: 32px;\n",
              "    }\n",
              "\n",
              "    .colab-df-convert:hover {\n",
              "      background-color: #E2EBFA;\n",
              "      box-shadow: 0px 1px 2px rgba(60, 64, 67, 0.3), 0px 1px 3px 1px rgba(60, 64, 67, 0.15);\n",
              "      fill: #174EA6;\n",
              "    }\n",
              "\n",
              "    [theme=dark] .colab-df-convert {\n",
              "      background-color: #3B4455;\n",
              "      fill: #D2E3FC;\n",
              "    }\n",
              "\n",
              "    [theme=dark] .colab-df-convert:hover {\n",
              "      background-color: #434B5C;\n",
              "      box-shadow: 0px 1px 3px 1px rgba(0, 0, 0, 0.15);\n",
              "      filter: drop-shadow(0px 1px 2px rgba(0, 0, 0, 0.3));\n",
              "      fill: #FFFFFF;\n",
              "    }\n",
              "  </style>\n",
              "\n",
              "      <script>\n",
              "        const buttonEl =\n",
              "          document.querySelector('#df-d3dcb03f-1dca-47d3-aed0-c08871d12290 button.colab-df-convert');\n",
              "        buttonEl.style.display =\n",
              "          google.colab.kernel.accessAllowed ? 'block' : 'none';\n",
              "\n",
              "        async function convertToInteractive(key) {\n",
              "          const element = document.querySelector('#df-d3dcb03f-1dca-47d3-aed0-c08871d12290');\n",
              "          const dataTable =\n",
              "            await google.colab.kernel.invokeFunction('convertToInteractive',\n",
              "                                                     [key], {});\n",
              "          if (!dataTable) return;\n",
              "\n",
              "          const docLinkHtml = 'Like what you see? Visit the ' +\n",
              "            '<a target=\"_blank\" href=https://colab.research.google.com/notebooks/data_table.ipynb>data table notebook</a>'\n",
              "            + ' to learn more about interactive tables.';\n",
              "          element.innerHTML = '';\n",
              "          dataTable['output_type'] = 'display_data';\n",
              "          await google.colab.output.renderOutput(dataTable, element);\n",
              "          const docLink = document.createElement('div');\n",
              "          docLink.innerHTML = docLinkHtml;\n",
              "          element.appendChild(docLink);\n",
              "        }\n",
              "      </script>\n",
              "    </div>\n",
              "  </div>\n",
              "  "
            ]
          },
          "metadata": {},
          "execution_count": 59
        }
      ]
    },
    {
      "cell_type": "code",
      "source": [
        "employer_support = pd.read_sql(\"\"\"\n",
        "                              SELECT answer, \n",
        "                                     COUNT(DISTINCT UserID) AS no_respondents, \n",
        "                                     QuestionID\n",
        "                              FROM (SELECT\n",
        "                                          CASE\n",
        "                                              WHEN AnswerText LIKE \"%know%\" \n",
        "                                              THEN \"Don't know\"\n",
        "                                              ELSE AnswerText\n",
        "                                          END AS answer, \n",
        "                                          UserID, QuestionID\n",
        "                                    FROM Answer\n",
        "                                    WHERE QuestionID IN (10, 16) \n",
        "                                    AND AnswerText IS NOT \"-1\" \n",
        "                                    AND AnswerText NOT LIKE \"%NA\")\n",
        "                              GROUP BY answer, QuestionID\n",
        "                              \"\"\", connection)\n",
        "\n",
        "\n",
        "employer_support = pd.pivot_table(employer_support, \n",
        "                                  values=\"no_respondents\", \n",
        "                                  index=\"QuestionID\",\n",
        "                                  columns=\"answer\")\n",
        "\n",
        "axis = employer_support.plot.barh(rot=0, stacked=True);\n",
        "\n",
        "plt.title(\"Financial support and awareness\") \n",
        "axis.set_yticklabels([\"Does your employer offer resources to learn more about \\\n",
        "mental health disorders?\",\n",
        "                      \"Does your employer provide mental health benefits?\"]);\n",
        "axis.set(ylabel=None);"
      ],
      "metadata": {
        "colab": {
          "base_uri": "https://localhost:8080/",
          "height": 281
        },
        "id": "F6feuW54y8_o",
        "outputId": "63d78915-c848-4085-d67a-958f2eb5f6b2"
      },
      "execution_count": 60,
      "outputs": [
        {
          "output_type": "display_data",
          "data": {
            "text/plain": [
              "<Figure size 432x288 with 1 Axes>"
            ],
            "image/png": "[encoded data removed]"
          },
          "metadata": {
            "needs_background": "light"
          }
        }
      ]
    },
    {
      "cell_type": "markdown",
      "source": [
        "Based on survey responses provided above, most of the employers do not provide mental health benefits. However, most of them facilitate the resources for learning more about mental health disorders.\n",
        "\n",
        "There might also be some cultural differences towards mental health and stigmas surrounding this topic. To check this hypothesis, the answers to the following questions about employer's support will be grouped by continent. "
      ],
      "metadata": {
        "id": "ztiB4q8jwqHG"
      }
    },
    {
      "cell_type": "code",
      "source": [
        "#@title Difficulty to leave work analysis\n",
        "leave_work_country = pd.read_sql(\"\"\"\n",
        "                                  WITH work_country AS\n",
        "                                      (SELECT UserID as ID, \n",
        "                                      AnswerText as country\n",
        "                                      FROM Answer\n",
        "                                      WHERE QuestionID = 50)\n",
        "\n",
        "                                  SELECT country, \n",
        "                                        (CASE \n",
        "                                            WHEN AnswerText IS \"Very easy\" THEN 0\n",
        "                                            WHEN AnswerText \n",
        "                                            IS \"Somewhat easy\" THEN 1\n",
        "                                            WHEN AnswerText \n",
        "                                            IS \"Neither easy nor difficult\" THEN 2\n",
        "                                            WHEN AnswerText \n",
        "                                            IS \"Somewhat difficult\"\tTHEN 3\n",
        "                                            WHEN AnswerText IS \"Difficult\"\tTHEN 4\n",
        "                                            WHEN AnswerText \n",
        "                                            IS \"Very difficult\" THEN 5\n",
        "                                        END) AS rating\n",
        "                                  FROM Answer\n",
        "                                  JOIN work_country\n",
        "                                  ON Answer.UserID = work_country.ID\n",
        "                                  WHERE QuestionID = 17 \n",
        "                                  AND AnswerText IS NOT \"I don''t know\" \n",
        "                                  AND AnswerText IS NOT \"-1\"\n",
        "                                  \"\"\", connection)\n",
        "\n",
        "leave_work_continent = leave_work_country \\\n",
        "                       .set_index('country') \\\n",
        "                       .join(world.loc[:, ['continent', 'name']]\n",
        "                       .set_index('name'))\n",
        "\n",
        "plt.figure(figsize=(13, 3.5))\n",
        "axis = sns.boxplot(x=\"rating\", \n",
        "                   y=\"continent\", \n",
        "                   data=leave_work_continent, \n",
        "                   showmeans=True, \n",
        "                   palette=\"Set3\");\n",
        "\n",
        "plt.title(\"How easy or difficult would it be to ask for that leave in case\\\n",
        " of mental issue?\")\n",
        "axis.set_xticklabels([\"\", \n",
        "                      \"Very easy\", \n",
        "                      \"Somewhat easy\", \n",
        "                      \"Neither easy nor difficult\", \n",
        "                      \"Somewhat difficult\", \n",
        "                      \"Difficult\", \n",
        "                      \"Very difficult\"]);\n",
        "\n",
        "axis.set_xlabel(None);"
      ],
      "metadata": {
        "colab": {
          "base_uri": "https://localhost:8080/",
          "height": 254
        },
        "id": "f2HOxGu3l9aD",
        "outputId": "ebb6e303-15b5-404a-a9eb-1671c3728dab",
        "cellView": "form"
      },
      "execution_count": 61,
      "outputs": [
        {
          "output_type": "display_data",
          "data": {
            "text/plain": [
              "<Figure size 936x252 with 1 Axes>"
            ],
            "image/png": "[encoded data removed]"
          },
          "metadata": {
            "needs_background": "light"
          }
        }
      ]
    },
    {
      "cell_type": "markdown",
      "source": [
        "We see that there are some variations in terms of difficulty of leaving in case of mental illness across continents. Most of the participants working in Europe, Oceania, Africa and North America indicated that it would be *Somewhat easy* for them to leave due to mental illness. People from North America tend to lean towards the difficult side a bit more as 50% of the respondents reside between *Somewhat easy* and *Somewhat difficult*. This tendency is similar in South America and Asia. It seems that the respondents from South America would find it most difficult to leave due to mental issues since the median and mean values are highest for this continent."
      ],
      "metadata": {
        "id": "-If0v8cT0dj9"
      }
    },
    {
      "cell_type": "code",
      "source": [
        "#@title Physical health importance analysis\n",
        "physical_health_country = pd.read_sql(\"\"\"\n",
        "                                      WITH work_country AS \n",
        "                                          (SELECT UserID as ID, \n",
        "                                                  AnswerText AS country\n",
        "                                          FROM Answer\n",
        "                                          WHERE QuestionID = 50)\n",
        "\n",
        "                                      SELECT country, \n",
        "                                             CAST(AnswerText AS int) AS rating\n",
        "                                      FROM Answer\n",
        "                                      JOIN work_country\n",
        "                                      ON Answer.UserID = work_country.ID\n",
        "                                      WHERE QuestionID = 64 \n",
        "                                      AND AnswerText IS NOT \"I don''t know\" \n",
        "                                      AND AnswerText IS NOT \"-1\"\n",
        "                                      \"\"\", connection)\n",
        "\n",
        "physical_health_continent = physical_health_country \\\n",
        "                           .set_index('country') \\\n",
        "                           .join(world.loc[:, ['continent', 'name']] \\\n",
        "                            .set_index('name'))\n",
        "\n",
        "plt.figure(figsize=(13, 3.5))\n",
        "sns.boxplot(x=\"rating\", \n",
        "            y=\"continent\", \n",
        "            data=physical_health_continent, \n",
        "            showmeans=True, \n",
        "            palette=\"Set3\")\n",
        "\n",
        "plt.title(\"How much importance does your employer place on physical health?\");"
      ],
      "metadata": {
        "colab": {
          "base_uri": "https://localhost:8080/",
          "height": 268
        },
        "id": "MWMj4oXzR5pf",
        "outputId": "07901201-1f80-419b-9911-7ade63864138",
        "cellView": "form"
      },
      "execution_count": 62,
      "outputs": [
        {
          "output_type": "display_data",
          "data": {
            "text/plain": [
              "<Figure size 936x252 with 1 Axes>"
            ],
            "image/png": "[encoded data removed]"
          },
          "metadata": {
            "needs_background": "light"
          }
        }
      ]
    },
    {
      "cell_type": "code",
      "source": [
        "#@title Mental health importance analysis\n",
        "mental_health_country = pd.read_sql(\"\"\"\n",
        "                                    WITH work_country AS \n",
        "                                        (SELECT UserID as ID, AnswerText \n",
        "                                                AS country\n",
        "                                        FROM Answer\n",
        "                                        WHERE QuestionID = 50)\n",
        "\n",
        "                                    SELECT country, \n",
        "                                           CAST(AnswerText AS int) AS rating\n",
        "                                    FROM Answer\n",
        "                                    JOIN work_country\n",
        "                                    ON Answer.UserID = work_country.ID\n",
        "                                    WHERE QuestionID = 65 \n",
        "                                    AND AnswerText IS NOT \"I don''t know\" \n",
        "                                    AND AnswerText IS NOT \"-1\"\n",
        "                                    \"\"\", connection)\n",
        "\n",
        "mental_health_continent = mental_health_country \\\n",
        "                          .set_index('country') \\\n",
        "                          .join(world.loc[:, ['continent', 'name']] \\\n",
        "                          .set_index('name'))\n",
        "\n",
        "plt.figure(figsize=(13, 3.5))\n",
        "sns.boxplot(x=\"rating\", \n",
        "            y=\"continent\", \n",
        "            data=mental_health_continent, \n",
        "            showmeans=True, palette=\"Set3\")\n",
        "\n",
        "plt.title(\"How much importance does your employer place on mental health?\");"
      ],
      "metadata": {
        "colab": {
          "base_uri": "https://localhost:8080/",
          "height": 268
        },
        "id": "x_2t2S7LS2pj",
        "outputId": "47e66315-88c6-49a9-ed32-bdf4c9005a98",
        "cellView": "form"
      },
      "execution_count": 63,
      "outputs": [
        {
          "output_type": "display_data",
          "data": {
            "text/plain": [
              "<Figure size 936x252 with 1 Axes>"
            ],
            "image/png": "[encoded data removed]"
          },
          "metadata": {
            "needs_background": "light"
          }
        }
      ]
    },
    {
      "cell_type": "markdown",
      "source": [
        "Looking at the graphs above, we see that the employer place less importance on the mental in comparison to physical health. Usually, it is lower by 2 scores. Exceptions are Oceania and Africa where the difference is less than 2 scores. The highest mental health importance median and mean scores were obtained for Oceania and the lowest for Africa.\n",
        "\n",
        "In summary, while employers make the effort to raise awareness about mental health, the financial benefits seem to be provided less often. Furthermore, in different parts of the world, physical health is emphasized more than mental health."
      ],
      "metadata": {
        "id": "rD8QwMqU9Wi0"
      }
    },
    {
      "cell_type": "markdown",
      "source": [
        "## Employee attitude"
      ],
      "metadata": {
        "id": "krKXKB8cwnXy"
      }
    },
    {
      "cell_type": "markdown",
      "source": [
        "In addition to employers view on mental health, employees attitude is important for recognizing and managing mental problems. \n",
        "\n",
        "Using the following question we will take a deeper look into this matter."
      ],
      "metadata": {
        "id": "GGvABiDI-HmT"
      }
    },
    {
      "cell_type": "code",
      "source": [
        "mental_health_questions = pd.read_sql(\"\"\"\n",
        "                    SELECT * \n",
        "                    FROM Question\n",
        "                    WHERE QuestionID IN (12, 18, 19, 98)\n",
        "                    \"\"\", connection)\n",
        "\n",
        "mental_health_questions.set_index('questionid')"
      ],
      "metadata": {
        "id": "QuMVyNmN7ELu",
        "colab": {
          "base_uri": "https://localhost:8080/",
          "height": 206
        },
        "outputId": "37dafb78-25b3-4b9b-d865-e53317b7f2d4"
      },
      "execution_count": 64,
      "outputs": [
        {
          "output_type": "execute_result",
          "data": {
            "text/plain": [
              "                                                 questiontext\n",
              "questionid                                                   \n",
              "12          Would you bring up a mental health issue with ...\n",
              "18          Would you feel comfortable discussing a mental...\n",
              "19          Would you feel comfortable discussing a mental...\n",
              "98          Do you think that discussing a mental health i..."
            ],
            "text/html": [
              "\n",
              "  <div id=\"df-ab0d785f-cda8-4f11-82e0-e6377d9b9f63\">\n",
              "    <div class=\"colab-df-container\">\n",
              "      <div>\n",
              "<style scoped>\n",
              "    .dataframe tbody tr th:only-of-type {\n",
              "        vertical-align: middle;\n",
              "    }\n",
              "\n",
              "    .dataframe tbody tr th {\n",
              "        vertical-align: top;\n",
              "    }\n",
              "\n",
              "    .dataframe thead th {\n",
              "        text-align: right;\n",
              "    }\n",
              "</style>\n",
              "<table border=\"1\" class=\"dataframe\">\n",
              "  <thead>\n",
              "    <tr style=\"text-align: right;\">\n",
              "      <th></th>\n",
              "      <th>questiontext</th>\n",
              "    </tr>\n",
              "    <tr>\n",
              "      <th>questionid</th>\n",
              "      <th></th>\n",
              "    </tr>\n",
              "  </thead>\n",
              "  <tbody>\n",
              "    <tr>\n",
              "      <th>12</th>\n",
              "      <td>Would you bring up a mental health issue with ...</td>\n",
              "    </tr>\n",
              "    <tr>\n",
              "      <th>18</th>\n",
              "      <td>Would you feel comfortable discussing a mental...</td>\n",
              "    </tr>\n",
              "    <tr>\n",
              "      <th>19</th>\n",
              "      <td>Would you feel comfortable discussing a mental...</td>\n",
              "    </tr>\n",
              "    <tr>\n",
              "      <th>98</th>\n",
              "      <td>Do you think that discussing a mental health i...</td>\n",
              "    </tr>\n",
              "  </tbody>\n",
              "</table>\n",
              "</div>\n",
              "      <button class=\"colab-df-convert\" onclick=\"convertToInteractive('df-ab0d785f-cda8-4f11-82e0-e6377d9b9f63')\"\n",
              "              title=\"Convert this dataframe to an interactive table.\"\n",
              "              style=\"display:none;\">\n",
              "        \n",
              "  <svg xmlns=\"http://www.w3.org/2000/svg\" height=\"24px\"viewBox=\"0 0 24 24\"\n",
              "       width=\"24px\">\n",
              "    <path d=\"M0 0h24v24H0V0z\" fill=\"none\"/>\n",
              "    <path d=\"M18.56 5.44l.94 2.06.94-2.06 2.06-.94-2.06-.94-.94-2.06-.94 2.06-2.06.94zm-11 1L8.5 8.5l.94-2.06 2.06-.94-2.06-.94L8.5 2.5l-.94 2.06-2.06.94zm10 10l.94 2.06.94-2.06 2.06-.94-2.06-.94-.94-2.06-.94 2.06-2.06.94z\"/><path d=\"M17.41 7.96l-1.37-1.37c-.4-.4-.92-.59-1.43-.59-.52 0-1.04.2-1.43.59L10.3 9.45l-7.72 7.72c-.78.78-.78 2.05 0 2.83L4 21.41c.39.39.9.59 1.41.59.51 0 1.02-.2 1.41-.59l7.78-7.78 2.81-2.81c.8-.78.8-2.07 0-2.86zM5.41 20L4 18.59l7.72-7.72 1.47 1.35L5.41 20z\"/>\n",
              "  </svg>\n",
              "      </button>\n",
              "      \n",
              "  <style>\n",
              "    .colab-df-container {\n",
              "      display:flex;\n",
              "      flex-wrap:wrap;\n",
              "      gap: 12px;\n",
              "    }\n",
              "\n",
              "    .colab-df-convert {\n",
              "      background-color: #E8F0FE;\n",
              "      border: none;\n",
              "      border-radius: 50%;\n",
              "      cursor: pointer;\n",
              "      display: none;\n",
              "      fill: #1967D2;\n",
              "      height: 32px;\n",
              "      padding: 0 0 0 0;\n",
              "      width: 32px;\n",
              "    }\n",
              "\n",
              "    .colab-df-convert:hover {\n",
              "      background-color: #E2EBFA;\n",
              "      box-shadow: 0px 1px 2px rgba(60, 64, 67, 0.3), 0px 1px 3px 1px rgba(60, 64, 67, 0.15);\n",
              "      fill: #174EA6;\n",
              "    }\n",
              "\n",
              "    [theme=dark] .colab-df-convert {\n",
              "      background-color: #3B4455;\n",
              "      fill: #D2E3FC;\n",
              "    }\n",
              "\n",
              "    [theme=dark] .colab-df-convert:hover {\n",
              "      background-color: #434B5C;\n",
              "      box-shadow: 0px 1px 3px 1px rgba(0, 0, 0, 0.15);\n",
              "      filter: drop-shadow(0px 1px 2px rgba(0, 0, 0, 0.3));\n",
              "      fill: #FFFFFF;\n",
              "    }\n",
              "  </style>\n",
              "\n",
              "      <script>\n",
              "        const buttonEl =\n",
              "          document.querySelector('#df-ab0d785f-cda8-4f11-82e0-e6377d9b9f63 button.colab-df-convert');\n",
              "        buttonEl.style.display =\n",
              "          google.colab.kernel.accessAllowed ? 'block' : 'none';\n",
              "\n",
              "        async function convertToInteractive(key) {\n",
              "          const element = document.querySelector('#df-ab0d785f-cda8-4f11-82e0-e6377d9b9f63');\n",
              "          const dataTable =\n",
              "            await google.colab.kernel.invokeFunction('convertToInteractive',\n",
              "                                                     [key], {});\n",
              "          if (!dataTable) return;\n",
              "\n",
              "          const docLinkHtml = 'Like what you see? Visit the ' +\n",
              "            '<a target=\"_blank\" href=https://colab.research.google.com/notebooks/data_table.ipynb>data table notebook</a>'\n",
              "            + ' to learn more about interactive tables.';\n",
              "          element.innerHTML = '';\n",
              "          dataTable['output_type'] = 'display_data';\n",
              "          await google.colab.output.renderOutput(dataTable, element);\n",
              "          const docLink = document.createElement('div');\n",
              "          docLink.innerHTML = docLinkHtml;\n",
              "          element.appendChild(docLink);\n",
              "        }\n",
              "      </script>\n",
              "    </div>\n",
              "  </div>\n",
              "  "
            ]
          },
          "metadata": {},
          "execution_count": 64
        }
      ]
    },
    {
      "cell_type": "code",
      "source": [
        "#@title Employee attitude analysis\n",
        "employee_attitude = pd.read_sql(\"\"\"\n",
        "                                SELECT AnswerText AS answer, \n",
        "                                       COUNT(DISTINCT UserID) AS count_past, \n",
        "                                       QuestionID\n",
        "                                FROM (SELECT AnswerText, UserID, QuestionID\n",
        "                                      FROM Answer\n",
        "                                      WHERE QuestionID IN (12, 18, 19, 98) \n",
        "                                      AND AnswerText IS NOT \"-1\") \n",
        "                                GROUP BY answer, QuestionID\n",
        "                                \"\"\", connection)\n",
        "\n",
        "employee_attitude = pd.pivot_table(employee_attitude,\n",
        "                                   values='count_past', \n",
        "                                   index=['QuestionID'], \n",
        "                                   columns=['answer'])\n",
        "\n",
        "axis = employee_attitude.plot.barh(rot=0, stacked=True);\n",
        "\n",
        "plt.title(\"Financial support and awareness\") \n",
        "axis.set_yticklabels([\"Would you bring up a mental health issue with a potential\\\n",
        " employer in an interview?\",\n",
        "                      \"Would you feel comfortable discussing a mental health\\\n",
        " issue with your coworkers?\",\n",
        "                      \"Would you feel comfortable discussing a mental health\\\n",
        " issue with your direct supervisor(s)?\", \n",
        "                      \"Do you think that discussing a mental health issue with\\\n",
        " your employer would have negative consequences?\" ]);\n",
        "\n",
        "axis.set(ylabel=None);"
      ],
      "metadata": {
        "colab": {
          "base_uri": "https://localhost:8080/",
          "height": 281
        },
        "id": "L9J1d5Buwfog",
        "outputId": "463133c4-babc-4a3a-b9be-95c9401989b3",
        "cellView": "form"
      },
      "execution_count": 65,
      "outputs": [
        {
          "output_type": "display_data",
          "data": {
            "text/plain": [
              "<Figure size 432x288 with 1 Axes>"
            ],
            "image/png": "[encoded data removed]"
          },
          "metadata": {
            "needs_background": "light"
          }
        }
      ]
    },
    {
      "cell_type": "markdown",
      "source": [
        "Although a relatively small portion of respondents believes that bringing up the mental health issue to their employer would have negative consequences, not many of them would be willing to reveal it during a potential employer interview. Approximately one-third of respondents would feel comfortable with sharing discussing their mental health with their supervisors, but less would be willing to discuss it with their coworkers. The bigger proportion answered *maybe* or *no* to these questions.\n",
        "\n",
        "Mental health started receiving [more attention in recent years](https://www.nbcnews.com/better/lifestyle/mental-health-how-we-ve-improved-where-we-need-do-ncna1108721). Hence, we will look whether this change can be observed in the survey data. The proportion of people who sought help when having mental concerns will be plotted across different years."
      ],
      "metadata": {
        "id": "Fus0CIbOwkZ4"
      }
    },
    {
      "cell_type": "code",
      "source": [
        "#@title Seeking help tendencies analysis\n",
        "years_seeking_help = pd.read_sql(\"\"\"\n",
        "                                SELECT AnswerText, SurveyID, \n",
        "                                       COUNT(DISTINCT UserID) AS no_respondents\n",
        "                                FROM Answer\n",
        "                                WHERE QuestionID = 7\n",
        "                                GROUP BY SurveyID, AnswerText\n",
        "                                \"\"\", connection)\n",
        "\n",
        "total_count = years_seeking_help.groupby('SurveyID').sum()\n",
        "total_yes= years_seeking_help \\\n",
        "           .loc[years_seeking_help['AnswerText'] == '1', \n",
        "            ['SurveyID', 'no_respondents']]\n",
        "\n",
        "seeking_help = total_count \\\n",
        "               .join(total_yes \\\n",
        "               .set_index('SurveyID'), \n",
        "               how='left', \n",
        "               lsuffix='_total', \n",
        "               rsuffix='_seek_help')\n",
        "\n",
        "seeking_help['percentage'] = seeking_help['no_respondents_seek_help'] \\\n",
        "                             /seeking_help['no_respondents_total']*100\n",
        "\n",
        "plt.figure(figsize=(7, 5))\n",
        "sns.scatterplot(x=seeking_help.index, \n",
        "                y=\"percentage\", \n",
        "                data=seeking_help, \n",
        "                marker=\"v\", \n",
        "                s=150)\n",
        "\n",
        "plt.title(\"Proportion of respondents that sought for mental health help\")\n",
        "plt.xlabel(\"Survey year\");\n",
        "plt.ylabel(\"Percentage (%)\");"
      ],
      "metadata": {
        "id": "Y72d8t1oCC64",
        "colab": {
          "base_uri": "https://localhost:8080/",
          "height": 350
        },
        "outputId": "63c63465-9666-474d-ef1d-856971997e17"
      },
      "execution_count": 66,
      "outputs": [
        {
          "output_type": "display_data",
          "data": {
            "text/plain": [
              "<Figure size 504x360 with 1 Axes>"
            ],
            "image/png": "[encoded data removed]"
          },
          "metadata": {
            "needs_background": "light"
          }
        }
      ]
    },
    {
      "cell_type": "markdown",
      "source": [
        "We see that with some variations, the percentage of people seeking help increased by almost 10% from the year 2014 and 2019. Besides that, the participants of the survey do not seem to be keen to talk about their mental disorders in a work environment."
      ],
      "metadata": {
        "id": "pYLDXBl2y6eM"
      }
    },
    {
      "cell_type": "markdown",
      "source": [
        "## Conclusions"
      ],
      "metadata": {
        "id": "8cQrHZYyfCJR"
      }
    },
    {
      "cell_type": "markdown",
      "source": [
        "* In comparison to the general population, the proportion of the survey respondents experiencing mental health issues is higher.\n",
        "* When treated effectively, the disorder seems to interfere with work less. Therefore, actions should be taken to help employees to manage mental disorders and support their mental well-being.\n",
        "* Employees seem to recognise the employers' effort in educating them about potential help resources. However, most respondents perceived physical health as more emphasised by the employer than mental health. It should be further investigated why this is the case and how it can be improved.\n",
        "* Even though more people seem to be seeking help when experiencing mental problems in recent years, most of them do not feel comfortable talking about mental issues with their current or future employers.\n",
        "\n",
        "\n",
        "Overall, there seems to be a lot of room for improvement to prevent workers from getting mental disorder as well as managing it in case of occurrence."
      ],
      "metadata": {
        "id": "bh9ltREmfrfK"
      }
    }
  ]
}